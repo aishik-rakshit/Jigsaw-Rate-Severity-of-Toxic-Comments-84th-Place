{
 "cells": [
  {
   "cell_type": "code",
   "execution_count": 1,
   "id": "6d05b81f",
   "metadata": {
    "_cell_guid": "b1076dfc-b9ad-4769-8c92-a6c4dae69d19",
    "_uuid": "8f2839f25d086af736a60e9eeb907d3b93b6e0e5",
    "execution": {
     "iopub.execute_input": "2022-02-08T06:41:34.161049Z",
     "iopub.status.busy": "2022-02-08T06:41:34.159479Z",
     "iopub.status.idle": "2022-02-08T06:42:02.461488Z",
     "shell.execute_reply": "2022-02-08T06:42:02.461920Z",
     "shell.execute_reply.started": "2022-02-07T21:46:39.39055Z"
    },
    "papermill": {
     "duration": 28.348854,
     "end_time": "2022-02-08T06:42:02.462222",
     "exception": false,
     "start_time": "2022-02-08T06:41:34.113368",
     "status": "completed"
    },
    "tags": []
   },
   "outputs": [
    {
     "name": "stdout",
     "output_type": "stream",
     "text": [
      "[nltk_data] Error loading wordnet: <urlopen error [Errno -3] Temporary\n",
      "[nltk_data]     failure in name resolution>\n"
     ]
    }
   ],
   "source": [
    "import os\n",
    "import gc\n",
    "import copy\n",
    "import time\n",
    "import random\n",
    "import pickle\n",
    "import joblib\n",
    "import string\n",
    "\n",
    "# For data manipulation\n",
    "import numpy as np\n",
    "import pandas as pd\n",
    "\n",
    "# Pytorch Imports\n",
    "import torch\n",
    "import torch.nn as nn\n",
    "import torch.optim as optim\n",
    "from torch.optim import lr_scheduler\n",
    "from torch.utils.data import Dataset, DataLoader\n",
    "\n",
    "# Utils\n",
    "from tqdm.notebook import tqdm\n",
    "tqdm.pandas()\n",
    "from collections import defaultdict\n",
    "\n",
    "# Sklearn Imports\n",
    "from sklearn.metrics import mean_squared_error\n",
    "from sklearn.model_selection import StratifiedKFold, KFold, GroupKFold\n",
    "from sklearn.utils.class_weight import compute_class_weight\n",
    "from sklearn.linear_model import Ridge\n",
    "from sklearn.metrics import accuracy_score, f1_score\n",
    "from sklearn.feature_extraction.text import TfidfVectorizer\n",
    "from sklearn.pipeline import Pipeline, FeatureUnion\n",
    "from scipy import sparse\n",
    "\n",
    "# ML Imports\n",
    "from xgboost import XGBRegressor\n",
    "\n",
    "# NLP Imports\n",
    "import re\n",
    "import nltk\n",
    "from nltk.corpus import stopwords\n",
    "from nltk import WordNetLemmatizer\n",
    "nltk.download('wordnet')\n",
    "import itertools\n",
    "from string import ascii_lowercase\n",
    "import fasttext as ft\n",
    "from bs4 import BeautifulSoup\n",
    "from gensim.models import KeyedVectors, FastText\n",
    "\n",
    "# For Transformer Models\n",
    "from transformers import AutoTokenizer, AutoModel, AdamW, AutoConfig\n",
    "\n",
    "# For colored terminal text\n",
    "from colorama import Fore, Back, Style\n",
    "b_ = Fore.BLUE\n",
    "y_ = Fore.YELLOW\n",
    "sr_ = Style.RESET_ALL\n",
    "\n",
    "# Suppress warnings\n",
    "import warnings\n",
    "warnings.filterwarnings(\"ignore\")\n",
    "\n",
    "# For descriptive error messages\n",
    "os.environ['CUDA_LAUNCH_BLOCKING'] = \"1\""
   ]
  },
  {
   "cell_type": "code",
   "execution_count": 2,
   "id": "6355723b",
   "metadata": {
    "execution": {
     "iopub.execute_input": "2022-02-08T06:42:02.548775Z",
     "iopub.status.busy": "2022-02-08T06:42:02.547979Z",
     "iopub.status.idle": "2022-02-08T06:42:02.549941Z",
     "shell.execute_reply": "2022-02-08T06:42:02.550323Z",
     "shell.execute_reply.started": "2022-02-07T21:47:02.535495Z"
    },
    "papermill": {
     "duration": 0.0458,
     "end_time": "2022-02-08T06:42:02.550455",
     "exception": false,
     "start_time": "2022-02-08T06:42:02.504655",
     "status": "completed"
    },
    "tags": []
   },
   "outputs": [],
   "source": [
    "PRIVATE = False\n",
    "VAL = False\n",
    "n_folds =7"
   ]
  },
  {
   "cell_type": "code",
   "execution_count": 3,
   "id": "09e07e9b",
   "metadata": {
    "execution": {
     "iopub.execute_input": "2022-02-08T06:42:02.638770Z",
     "iopub.status.busy": "2022-02-08T06:42:02.638040Z",
     "iopub.status.idle": "2022-02-08T06:42:02.640421Z",
     "shell.execute_reply": "2022-02-08T06:42:02.639994Z",
     "shell.execute_reply.started": "2022-02-07T21:47:02.541523Z"
    },
    "papermill": {
     "duration": 0.048434,
     "end_time": "2022-02-08T06:42:02.640529",
     "exception": false,
     "start_time": "2022-02-08T06:42:02.592095",
     "status": "completed"
    },
    "tags": []
   },
   "outputs": [],
   "source": [
    "if PRIVATE:\n",
    "    def create_folds(data, num_splits):\n",
    "        num_bins = int(np.floor(1 + np.log2(len(data))))\n",
    "        data.loc[:, \"bins\"] = pd.cut(\n",
    "            data[\"y\"], bins=num_bins, labels=False\n",
    "        )\n",
    "\n",
    "        data[\"fold\"] = -1\n",
    "        kf = StratifiedKFold(n_splits=num_splits)\n",
    "        for f, (t_, v_) in enumerate(kf.split(X=data, y=data['bins'].values)):\n",
    "            data.loc[v_, 'fold'] = f\n",
    "        data = data.drop(\"bins\", axis=1)\n",
    "        return data"
   ]
  },
  {
   "cell_type": "code",
   "execution_count": 4,
   "id": "0147a7bf",
   "metadata": {
    "execution": {
     "iopub.execute_input": "2022-02-08T06:42:02.724058Z",
     "iopub.status.busy": "2022-02-08T06:42:02.723451Z",
     "iopub.status.idle": "2022-02-08T06:42:03.178135Z",
     "shell.execute_reply": "2022-02-08T06:42:03.178702Z",
     "shell.execute_reply.started": "2022-02-07T21:47:02.557358Z"
    },
    "papermill": {
     "duration": 0.498601,
     "end_time": "2022-02-08T06:42:03.178855",
     "exception": false,
     "start_time": "2022-02-08T06:42:02.680254",
     "status": "completed"
    },
    "tags": []
   },
   "outputs": [],
   "source": [
    "df_val = pd.read_csv(\"../input/js-cleaned-validation-data/Validation_data_clean_no_duplicates.csv\")\n",
    "df_sub = pd.read_csv(\"../input/jigsaw-toxic-severity-rating/comments_to_score.csv\")"
   ]
  },
  {
   "cell_type": "code",
   "execution_count": 5,
   "id": "55e9ac5c",
   "metadata": {
    "execution": {
     "iopub.execute_input": "2022-02-08T06:42:03.272775Z",
     "iopub.status.busy": "2022-02-08T06:42:03.272000Z",
     "iopub.status.idle": "2022-02-08T06:42:03.274438Z",
     "shell.execute_reply": "2022-02-08T06:42:03.274004Z",
     "shell.execute_reply.started": "2022-02-07T21:47:02.566425Z"
    },
    "papermill": {
     "duration": 0.055367,
     "end_time": "2022-02-08T06:42:03.274552",
     "exception": false,
     "start_time": "2022-02-08T06:42:03.219185",
     "status": "completed"
    },
    "tags": []
   },
   "outputs": [],
   "source": [
    "if df_sub.shape[0] == 7537:\n",
    "    PRIVATE = False"
   ]
  },
  {
   "cell_type": "code",
   "execution_count": 6,
   "id": "3cae3d14",
   "metadata": {
    "execution": {
     "iopub.execute_input": "2022-02-08T06:42:03.368727Z",
     "iopub.status.busy": "2022-02-08T06:42:03.361913Z",
     "iopub.status.idle": "2022-02-08T06:42:03.370879Z",
     "shell.execute_reply": "2022-02-08T06:42:03.370487Z",
     "shell.execute_reply.started": "2022-02-07T21:47:02.575057Z"
    },
    "papermill": {
     "duration": 0.056356,
     "end_time": "2022-02-08T06:42:03.370982",
     "exception": false,
     "start_time": "2022-02-08T06:42:03.314626",
     "status": "completed"
    },
    "tags": []
   },
   "outputs": [],
   "source": [
    "RE_PATTERNS = {\n",
    "    ' american ':\n",
    "        [\n",
    "            'amerikan'\n",
    "        ],\n",
    "\n",
    "    ' adolf ':\n",
    "        [\n",
    "            'adolf'\n",
    "        ],\n",
    "\n",
    "\n",
    "    ' hitler ':\n",
    "        [\n",
    "            'hitler'\n",
    "        ],\n",
    "\n",
    "    ' fuck':\n",
    "        [\n",
    "            '(f)(u|[^a-z0-9 ])(c|[^a-z0-9 ])(k|[^a-z0-9 ])([^ ])*',\n",
    "            '(f)([^a-z]*)(u)([^a-z]*)(c)([^a-z]*)(k)',\n",
    "            ' f[!@#\\$%\\^\\&\\*]*u[!@#\\$%\\^&\\*]*k', 'f u u c',\n",
    "            '(f)(c|[^a-z ])(u|[^a-z ])(k)', r'f\\*',\n",
    "            'feck ', ' fux ', 'f\\*\\*', \n",
    "            'f\\-ing', 'f\\.u\\.', 'f###', ' fu ', 'f@ck', 'f u c k', 'f uck', 'f ck','fuk', 'wtf','fucck','f cking'\n",
    "        ],\n",
    "\n",
    "    ' ass ':\n",
    "        [\n",
    "            '[^a-z]ass ', '[^a-z]azz ', 'arrse', ' arse ', '@\\$\\$'\n",
    "                                                           '[^a-z]anus', ' a\\*s\\*s', '[^a-z]ass[^a-z ]',\n",
    "            'a[@#\\$%\\^&\\*][@#\\$%\\^&\\*]', '[^a-z]anal ', 'a s s'\n",
    "        ],\n",
    "\n",
    "    ' asshole ':\n",
    "        [\n",
    "            ' a[s|z]*wipe', 'a[s|z]*[w]*h[o|0]+[l]*e', '@\\$\\$hole', 'ass hole'\n",
    "        ],\n",
    "\n",
    "    ' bitch ':\n",
    "        [\n",
    "            'b[w]*i[t]*ch', 'b!tch',\n",
    "            'bi\\+ch', 'b!\\+ch', '(b)([^a-z]*)(i)([^a-z]*)(t)([^a-z]*)(c)([^a-z]*)(h)',\n",
    "            'biatch', 'bi\\*\\*h', 'bytch', 'b i t c h','beetch'\n",
    "        ],\n",
    "\n",
    "    ' bastard ':\n",
    "        [\n",
    "            'ba[s|z]+t[e|a]+rd'\n",
    "        ],\n",
    "\n",
    "    ' transgender':\n",
    "        [\n",
    "            'transgender','trans gender'\n",
    "        ],\n",
    "\n",
    "    ' gay ':\n",
    "        [\n",
    "            'gay'\n",
    "        ],\n",
    "\n",
    "    ' cock ':\n",
    "        [\n",
    "            '[^a-z]cock', 'c0ck', '[^a-z]cok ', 'c0k', '[^a-z]cok[^aeiou]', ' cawk',\n",
    "            '(c)([^a-z ])(o)([^a-z ]*)(c)([^a-z ]*)(k)', 'c o c k'\n",
    "        ],\n",
    "\n",
    "    ' dick ':\n",
    "        [\n",
    "            ' dick[^aeiou]', 'deek', 'd i c k','diick '\n",
    "        ],\n",
    "\n",
    "    ' suck ':\n",
    "        [\n",
    "            'sucker', '(s)([^a-z ]*)(u)([^a-z ]*)(c)([^a-z ]*)(k)', 'sucks', '5uck', 's u c k'\n",
    "        ],\n",
    "\n",
    "    ' cunt ':\n",
    "        [\n",
    "            'cunt', 'c u n t'\n",
    "        ],\n",
    "\n",
    "    ' bullshit ':\n",
    "        [\n",
    "            'bullsh\\*t', 'bull\\$hit','bs'\n",
    "        ],\n",
    "\n",
    "    ' homosexual':\n",
    "        [\n",
    "            'homo sexual','homosex'\n",
    "        ],\n",
    "\n",
    "    ' jerk ':\n",
    "        [\n",
    "            'jerk'\n",
    "        ],\n",
    "\n",
    "    ' idiot ':\n",
    "        [\n",
    "            'i[d]+io[t]+', '(i)([^a-z ]*)(d)([^a-z ]*)(i)([^a-z ]*)(o)([^a-z ]*)(t)', 'idiots', 'i d i o t'\n",
    "        ],\n",
    "\n",
    "    ' dumb ':\n",
    "        [\n",
    "            '(d)([^a-z ]*)(u)([^a-z ]*)(m)([^a-z ]*)(b)'\n",
    "        ],\n",
    "\n",
    "    ' shit ':\n",
    "        [\n",
    "            'shitty', '(s)([^a-z ]*)(h)([^a-z ]*)(i)([^a-z ]*)(t)', 'shite', '\\$hit', 's h i t'\n",
    "        ],\n",
    "\n",
    "    ' shithole ':\n",
    "        [\n",
    "            'shythole','shit hole'\n",
    "        ],\n",
    "\n",
    "    ' retard ':\n",
    "        [\n",
    "            'returd', 'retad', 'retard', 'wiktard', 'wikitud'\n",
    "        ],\n",
    "\n",
    "    ' rape ':\n",
    "        [\n",
    "            ' raped'\n",
    "        ],\n",
    "\n",
    "    ' dumbass':\n",
    "        [\n",
    "            'dumb ass', 'dubass'\n",
    "        ],\n",
    "\n",
    "    ' asshead':\n",
    "        [\n",
    "            'butthead', 'ass head'\n",
    "        ],\n",
    "\n",
    "    ' sex ':\n",
    "        [\n",
    "            's3x', 'sexuality',\n",
    "        ],\n",
    "\n",
    "\n",
    "    ' nigger ':\n",
    "        [\n",
    "            'nigger', 'ni[g]+a', ' nigr ', 'negrito', 'niguh', 'n3gr', 'n i g g e r'\n",
    "        ],\n",
    "\n",
    "    ' shut the fuck up':\n",
    "        [\n",
    "            'stfu'\n",
    "        ],\n",
    "\n",
    "    ' pussy ':\n",
    "        [\n",
    "            'pussy[^c]', 'pusy', 'pussi[^l]', 'pusses'\n",
    "        ],\n",
    "\n",
    "    ' faggot ':\n",
    "        [\n",
    "            'faggot', ' fa[g]+[s]*[^a-z ]', 'fagot', 'f a g g o t', 'faggit',\n",
    "            '(f)([^a-z ]*)(a)([^a-z ]*)([g]+)([^a-z ]*)(o)([^a-z ]*)(t)', 'fau[g]+ot', 'fae[g]+ot',\n",
    "        ],\n",
    "\n",
    "    ' motherfucker':\n",
    "        [\n",
    "            ' motha ', ' motha f', ' mother f', 'motherucker', 'mother fucker'\n",
    "        ],\n",
    "\n",
    "    ' whore ':\n",
    "        [\n",
    "            'wh\\*\\*\\*', 'w h o r e'\n",
    "        ],\n",
    "}"
   ]
  },
  {
   "cell_type": "code",
   "execution_count": 7,
   "id": "f23ab266",
   "metadata": {
    "execution": {
     "iopub.execute_input": "2022-02-08T06:42:03.503193Z",
     "iopub.status.busy": "2022-02-08T06:42:03.502189Z",
     "iopub.status.idle": "2022-02-08T06:42:03.512321Z",
     "shell.execute_reply": "2022-02-08T06:42:03.512815Z",
     "shell.execute_reply.started": "2022-02-07T21:47:02.586938Z"
    },
    "papermill": {
     "duration": 0.095987,
     "end_time": "2022-02-08T06:42:03.512951",
     "exception": false,
     "start_time": "2022-02-08T06:42:03.416964",
     "status": "completed"
    },
    "tags": []
   },
   "outputs": [],
   "source": [
    "#Text Normalization\n",
    "\n",
    "def clean_text(text, remove_repeat_text=True, remove_patterns_text=True, is_lower=True):\n",
    "    \n",
    "    template = re.compile(r'https?://\\S+|www\\.\\S+') #Removes website links\n",
    "    text = template.sub(r'', text)\n",
    "    \n",
    "    soup = BeautifulSoup(text, 'lxml') #Removes HTML tags\n",
    "    only_text = soup.get_text()\n",
    "    text = only_text\n",
    "    \n",
    "    emoji_pattern = re.compile(\"[\"\n",
    "                               u\"\\U0001F600-\\U0001F64F\"  # emoticons\n",
    "                               u\"\\U0001F300-\\U0001F5FF\"  # symbols & pictographs\n",
    "                               u\"\\U0001F680-\\U0001F6FF\"  # transport & map symbols\n",
    "                               u\"\\U0001F1E0-\\U0001F1FF\"  # flags (iOS)\n",
    "                               u\"\\U00002702-\\U000027B0\"\n",
    "                               u\"\\U000024C2-\\U0001F251\"\n",
    "                               \"]+\", flags=re.UNICODE)\n",
    "    text = emoji_pattern.sub(r'', text)\n",
    "    \n",
    "    text = re.sub(r\"[^a-zA-Z\\d]\", \" \", text) #Remove special Charecters\n",
    "    text = re.sub(' +', ' ', text) #Remove Extra Spaces\n",
    "    text = text.strip()\n",
    "    if is_lower:\n",
    "        text=text.lower()\n",
    "\n",
    "    if remove_patterns_text:\n",
    "        for target, patterns in RE_PATTERNS.items():\n",
    "          for pat in patterns:\n",
    "            text=str(text).replace(pat, target)\n",
    "\n",
    "    if remove_repeat_text:\n",
    "        text = re.sub(r'(.)\\1{2,}', r'\\1', text) \n",
    "    \n",
    "    text = str(text).replace(\"\\n\", \" \")\n",
    "    text = re.sub(r'[^\\w\\s]',' ',text)\n",
    "    text = re.sub('[0-9]',\"\",text)\n",
    "    text = re.sub(\" +\", \" \", text)\n",
    "    text = re.sub(\"([^\\x00-\\x7F])+\",\" \",text)\n",
    "    return text \n",
    "\n",
    "def clean(text):\n",
    "        text = text.replace(r\"what's\", \"what is \")\n",
    "        text = text.replace(r\"\\'ve\", \" have \")\n",
    "        text = text.replace(r\"can't\", \"cannot \")\n",
    "        text = text.replace(r\"n't\", \" not \")\n",
    "        text = text.replace(r\"i'm\", \"i am \")\n",
    "        text = text.replace(r\"\\'re\", \" are \")\n",
    "        text = text.replace(r\"\\'d\", \" would \")\n",
    "        text = text.replace(r\"\\'ll\", \" will \")\n",
    "        text = text.replace(r\"\\'scuse\", \" excuse \")\n",
    "        text = text.replace(r\"\\'s\", \" \")\n",
    "        text = text.replace('\\n', ' \\n ')\n",
    "        text = text.replace(r'([a-zA-Z]+)([/!?.])([a-zA-Z]+)', r'\\1 \\2 \\3')\n",
    "        text = text.replace(r'([*!?\\'])\\1\\1{2,}', r'\\1\\1\\1')\n",
    "        text = text.replace(r'([*!?\\']+)', r' \\1 ')\n",
    "        text = text.replace(r'([a-zA-Z])\\1{2,}\\b', r'\\1\\1')\n",
    "        text = text.replace(r'([a-zA-Z])\\1\\1{2,}\\B', r'\\1\\1\\1')\n",
    "        text = text.replace(r'[ ]{2,}', ' ').strip()\n",
    "        text = text.replace(r'[ ]{2,}', ' ').strip()\n",
    "        return text"
   ]
  },
  {
   "cell_type": "code",
   "execution_count": 8,
   "id": "c6118884",
   "metadata": {
    "execution": {
     "iopub.execute_input": "2022-02-08T06:42:03.653733Z",
     "iopub.status.busy": "2022-02-08T06:42:03.653031Z",
     "iopub.status.idle": "2022-02-08T06:42:03.655671Z",
     "shell.execute_reply": "2022-02-08T06:42:03.656209Z",
     "shell.execute_reply.started": "2022-02-07T21:47:02.599359Z"
    },
    "papermill": {
     "duration": 0.079664,
     "end_time": "2022-02-08T06:42:03.656384",
     "exception": false,
     "start_time": "2022-02-08T06:42:03.576720",
     "status": "completed"
    },
    "tags": []
   },
   "outputs": [],
   "source": [
    "lemmatizer= WordNetLemmatizer()\n",
    "def lemma(text, lemmatization=True):\n",
    "  output=''\n",
    "  if lemmatization:\n",
    "    text=text.split(' ')\n",
    "    for word in text:\n",
    "      word1 = lemmatizer.lemmatize(word, pos = \"n\") #noun \n",
    "      word2 = lemmatizer.lemmatize(word1, pos = \"v\") #verb\n",
    "      word3 = lemmatizer.lemmatize(word2, pos = \"a\") #adjective\n",
    "      word4 = lemmatizer.lemmatize(word3, pos = \"r\") #adverb\n",
    "      output=output + \" \" + word4\n",
    "  else:\n",
    "    output=text\n",
    "  \n",
    "  return str(output.strip())"
   ]
  },
  {
   "cell_type": "code",
   "execution_count": 9,
   "id": "04ae0e03",
   "metadata": {
    "execution": {
     "iopub.execute_input": "2022-02-08T06:42:03.789668Z",
     "iopub.status.busy": "2022-02-08T06:42:03.788938Z",
     "iopub.status.idle": "2022-02-08T06:42:03.858045Z",
     "shell.execute_reply": "2022-02-08T06:42:03.857421Z",
     "shell.execute_reply.started": "2022-02-07T21:47:02.610921Z"
    },
    "papermill": {
     "duration": 0.13832,
     "end_time": "2022-02-08T06:42:03.858215",
     "exception": false,
     "start_time": "2022-02-08T06:42:03.719895",
     "status": "completed"
    },
    "tags": []
   },
   "outputs": [
    {
     "data": {
      "application/vnd.jupyter.widget-view+json": {
       "model_id": "d09fd9f5f18a4dc181b43528553b88f1",
       "version_major": 2,
       "version_minor": 0
      },
      "text/plain": [
       "  0%|          | 0/25 [00:00<?, ?it/s]"
      ]
     },
     "metadata": {},
     "output_type": "display_data"
    }
   ],
   "source": [
    "##Stopwords Removal\n",
    "\n",
    "stopword_list=[]\n",
    "def iter_all_strings():\n",
    "    for size in itertools.count(1):\n",
    "        for s in itertools.product(ascii_lowercase, repeat=size):\n",
    "            yield \"\".join(s)\n",
    "\n",
    "dual_alpha_list=[]\n",
    "for s in iter_all_strings():\n",
    "    dual_alpha_list.append(s)\n",
    "    if s == 'zz':\n",
    "        break\n",
    "\n",
    "dual_alpha_list.remove('i')\n",
    "dual_alpha_list.remove('a')\n",
    "dual_alpha_list.remove('am')\n",
    "dual_alpha_list.remove('an')\n",
    "dual_alpha_list.remove('as')\n",
    "dual_alpha_list.remove('at')\n",
    "dual_alpha_list.remove('be')\n",
    "dual_alpha_list.remove('by')\n",
    "dual_alpha_list.remove('do')\n",
    "dual_alpha_list.remove('go')\n",
    "dual_alpha_list.remove('he')\n",
    "dual_alpha_list.remove('hi')\n",
    "dual_alpha_list.remove('if')\n",
    "dual_alpha_list.remove('is')\n",
    "dual_alpha_list.remove('in')\n",
    "dual_alpha_list.remove('me')\n",
    "dual_alpha_list.remove('my')\n",
    "dual_alpha_list.remove('no')\n",
    "dual_alpha_list.remove('of')\n",
    "dual_alpha_list.remove('on')\n",
    "dual_alpha_list.remove('or')\n",
    "dual_alpha_list.remove('ok')\n",
    "dual_alpha_list.remove('so')\n",
    "dual_alpha_list.remove('to')\n",
    "dual_alpha_list.remove('up')\n",
    "dual_alpha_list.remove('us')\n",
    "dual_alpha_list.remove('we')\n",
    "\n",
    "\n",
    "for letter in dual_alpha_list:\n",
    "    stopword_list.append(letter)\n",
    "    \n",
    "potential_stopwords=['editor', 'reference', 'thank', 'work','find', 'good', 'know', 'like', 'look', 'thing', 'want', 'time', 'list', 'section','wikipedia', 'doe', 'add','new', 'try', 'think', 'write','use', 'user', 'way', 'page']\n",
    "\n",
    "#Adding above retrived words into the stopwords list.\n",
    "for word in tqdm(potential_stopwords):\n",
    "    stopword_list.append(word)\n",
    "    \n",
    "def remove_stopwords(text, remove_stop=True):\n",
    "  output = \"\"\n",
    "  if remove_stop:\n",
    "    text=text.split(\" \")\n",
    "    for word in text:\n",
    "      if word not in stopword_list:\n",
    "        output=output + \" \" + word\n",
    "  else :\n",
    "    output=text\n",
    "\n",
    "  return str(output.strip())"
   ]
  },
  {
   "cell_type": "code",
   "execution_count": 10,
   "id": "f77d13b0",
   "metadata": {
    "execution": {
     "iopub.execute_input": "2022-02-08T06:42:04.002128Z",
     "iopub.status.busy": "2022-02-08T06:42:04.001349Z",
     "iopub.status.idle": "2022-02-08T06:42:04.005086Z",
     "shell.execute_reply": "2022-02-08T06:42:04.005663Z",
     "shell.execute_reply.started": "2022-02-07T21:47:02.620474Z"
    },
    "papermill": {
     "duration": 0.081204,
     "end_time": "2022-02-08T06:42:04.005855",
     "exception": false,
     "start_time": "2022-02-08T06:42:03.924651",
     "status": "completed"
    },
    "tags": []
   },
   "outputs": [],
   "source": [
    "if PRIVATE:\n",
    "    df_jigsaw = pd.read_csv(\"../input/jigsaw-toxic-comment-classification-challenge/train.csv\")\n",
    "\n",
    "    df_jigsaw['severe_toxic'] = df_jigsaw.severe_toxic * 2\n",
    "    df_jigsaw['y'] = (df_jigsaw[['toxic', 'severe_toxic', 'obscene', 'threat', 'insult', 'identity_hate']].sum(axis = 1)).astype(int)\n",
    "    df_jigsaw['y'] = df_jigsaw['y'] / df_jigsaw['y'].max()\n",
    "    df_jigsaw = df_jigsaw[['comment_text', 'y']].rename(columns = {'comment_text': 'text'})\n",
    "    df_jigsaw[\"text\"] = df_jigsaw[\"text\"].progress_apply(clean_text)\n",
    "    df_jigsaw['text'] = df_jigsaw[\"text\"].progress_apply(clean)\n",
    "    df_jigsaw[\"text\"] = df_jigsaw[\"text\"].progress_apply(lemma)\n",
    "    df_jigsaw[\"text\"] = df_jigsaw[\"text\"].progress_apply(remove_stopwords)\n",
    "    df_jigsaw.head()"
   ]
  },
  {
   "cell_type": "code",
   "execution_count": 11,
   "id": "54c1548b",
   "metadata": {
    "execution": {
     "iopub.execute_input": "2022-02-08T06:42:04.146684Z",
     "iopub.status.busy": "2022-02-08T06:42:04.145833Z",
     "iopub.status.idle": "2022-02-08T06:42:04.147995Z",
     "shell.execute_reply": "2022-02-08T06:42:04.147383Z",
     "shell.execute_reply.started": "2022-02-07T21:47:02.631811Z"
    },
    "papermill": {
     "duration": 0.075238,
     "end_time": "2022-02-08T06:42:04.148135",
     "exception": false,
     "start_time": "2022-02-08T06:42:04.072897",
     "status": "completed"
    },
    "tags": []
   },
   "outputs": [],
   "source": [
    "if PRIVATE:\n",
    "    if VAL:\n",
    "        df_val[\"less_toxic\"] = df_val[\"less_toxic\"].progress_apply(clean_text)\n",
    "        df_val['less_toxic'] = df_val[\"less_toxic\"].progress_apply(clean)\n",
    "        df_val[\"less_toxic\"] = df_val[\"less_toxic\"].progress_apply(lemma)\n",
    "        df_val[\"less_toxic\"] = df_val[\"less_toxic\"].progress_apply(remove_stopwords)"
   ]
  },
  {
   "cell_type": "code",
   "execution_count": 12,
   "id": "d7a886fc",
   "metadata": {
    "execution": {
     "iopub.execute_input": "2022-02-08T06:42:04.288541Z",
     "iopub.status.busy": "2022-02-08T06:42:04.287696Z",
     "iopub.status.idle": "2022-02-08T06:42:04.289862Z",
     "shell.execute_reply": "2022-02-08T06:42:04.289231Z",
     "shell.execute_reply.started": "2022-02-07T21:47:02.640034Z"
    },
    "papermill": {
     "duration": 0.07571,
     "end_time": "2022-02-08T06:42:04.290002",
     "exception": false,
     "start_time": "2022-02-08T06:42:04.214292",
     "status": "completed"
    },
    "tags": []
   },
   "outputs": [],
   "source": [
    "if PRIVATE:\n",
    "    if VAL:\n",
    "        df_val[\"more_toxic\"] = df_val[\"more_toxic\"].progress_apply(clean_text)\n",
    "        df_val['more_toxic'] = df_val[\"more_toxic\"].progress_apply(clean)\n",
    "        df_val[\"more_toxic\"] = df_val[\"more_toxic\"].progress_apply(lemma)\n",
    "        df_val[\"more_toxic\"] = df_val[\"more_toxic\"].progress_apply(remove_stopwords)"
   ]
  },
  {
   "cell_type": "code",
   "execution_count": 13,
   "id": "e2817ddc",
   "metadata": {
    "execution": {
     "iopub.execute_input": "2022-02-08T06:42:04.432744Z",
     "iopub.status.busy": "2022-02-08T06:42:04.431893Z",
     "iopub.status.idle": "2022-02-08T06:42:04.434088Z",
     "shell.execute_reply": "2022-02-08T06:42:04.433473Z",
     "shell.execute_reply.started": "2022-02-07T21:47:02.650647Z"
    },
    "papermill": {
     "duration": 0.076319,
     "end_time": "2022-02-08T06:42:04.434241",
     "exception": false,
     "start_time": "2022-02-08T06:42:04.357922",
     "status": "completed"
    },
    "tags": []
   },
   "outputs": [],
   "source": [
    "if PRIVATE:\n",
    "    df_sub[\"text\"] = df_sub[\"text\"].progress_apply(clean_text)\n",
    "    df_sub['text'] = df_sub[\"text\"].progress_apply(clean)\n",
    "    df_sub[\"text\"] = df_sub[\"text\"].progress_apply(lemma)\n",
    "    df_sub[\"text\"] = df_sub[\"text\"].progress_apply(remove_stopwords)"
   ]
  },
  {
   "cell_type": "code",
   "execution_count": 14,
   "id": "b3eb9ab7",
   "metadata": {
    "execution": {
     "iopub.execute_input": "2022-02-08T06:42:04.562000Z",
     "iopub.status.busy": "2022-02-08T06:42:04.560483Z",
     "iopub.status.idle": "2022-02-08T06:42:04.562617Z",
     "shell.execute_reply": "2022-02-08T06:42:04.563020Z",
     "shell.execute_reply.started": "2022-02-07T21:47:02.657929Z"
    },
    "papermill": {
     "duration": 0.061612,
     "end_time": "2022-02-08T06:42:04.563136",
     "exception": false,
     "start_time": "2022-02-08T06:42:04.501524",
     "status": "completed"
    },
    "tags": []
   },
   "outputs": [],
   "source": [
    "if PRIVATE:\n",
    "    df_jigsaw = create_folds(df_jigsaw, n_folds)\n",
    "    df_jigsaw.head()"
   ]
  },
  {
   "cell_type": "code",
   "execution_count": 15,
   "id": "1d7d4fc6",
   "metadata": {
    "execution": {
     "iopub.execute_input": "2022-02-08T06:42:04.649279Z",
     "iopub.status.busy": "2022-02-08T06:42:04.648494Z",
     "iopub.status.idle": "2022-02-08T06:42:04.650456Z",
     "shell.execute_reply": "2022-02-08T06:42:04.650864Z",
     "shell.execute_reply.started": "2022-02-07T21:47:02.664606Z"
    },
    "papermill": {
     "duration": 0.047429,
     "end_time": "2022-02-08T06:42:04.650979",
     "exception": false,
     "start_time": "2022-02-08T06:42:04.603550",
     "status": "completed"
    },
    "tags": []
   },
   "outputs": [],
   "source": [
    "if PRIVATE:\n",
    "    df_ruddit = pd.read_csv(\"../input/ruddit-jigsaw-dataset/Dataset/ruddit_with_text.csv\")\n",
    "    df_ruddit = df_ruddit[['txt', 'offensiveness_score']].rename(columns = {'txt': 'text', 'offensiveness_score': 'y'})\n",
    "    df_ruddit['y'] = (df_ruddit['y'] - df_ruddit.y.min()) / (df_ruddit.y.max() - df_ruddit.y.min())\n",
    "    df_ruddit = create_folds(df_ruddit, n_folds)"
   ]
  },
  {
   "cell_type": "code",
   "execution_count": 16,
   "id": "c602acc7",
   "metadata": {
    "execution": {
     "iopub.execute_input": "2022-02-08T06:42:04.736345Z",
     "iopub.status.busy": "2022-02-08T06:42:04.735792Z",
     "iopub.status.idle": "2022-02-08T06:42:04.738969Z",
     "shell.execute_reply": "2022-02-08T06:42:04.738545Z",
     "shell.execute_reply.started": "2022-02-07T21:47:02.670487Z"
    },
    "papermill": {
     "duration": 0.047766,
     "end_time": "2022-02-08T06:42:04.739069",
     "exception": false,
     "start_time": "2022-02-08T06:42:04.691303",
     "status": "completed"
    },
    "tags": []
   },
   "outputs": [],
   "source": [
    "if PRIVATE:\n",
    "    val_preds_jigsaw1 = np.zeros((df_val.shape[0], n_folds))\n",
    "    val_preds_jigsaw2 = np.zeros((df_val.shape[0], n_folds))\n",
    "    test_preds_jigsaw = np.zeros((df_sub.shape[0], n_folds))"
   ]
  },
  {
   "cell_type": "code",
   "execution_count": 17,
   "id": "866c29c7",
   "metadata": {
    "execution": {
     "iopub.execute_input": "2022-02-08T06:42:04.826425Z",
     "iopub.status.busy": "2022-02-08T06:42:04.825661Z",
     "iopub.status.idle": "2022-02-08T06:42:04.827696Z",
     "shell.execute_reply": "2022-02-08T06:42:04.828120Z",
     "shell.execute_reply.started": "2022-02-07T21:47:02.679748Z"
    },
    "papermill": {
     "duration": 0.049152,
     "end_time": "2022-02-08T06:42:04.828271",
     "exception": false,
     "start_time": "2022-02-08T06:42:04.779119",
     "status": "completed"
    },
    "tags": []
   },
   "outputs": [],
   "source": [
    "if PRIVATE:\n",
    "    for fld in tqdm(range(n_folds)):\n",
    "        df = df_jigsaw.loc[df_jigsaw.fold == fld]\n",
    "        features = FeatureUnion([(\"vect3\", TfidfVectorizer(min_df = 3, max_df = 0.5, analyzer = 'char_wb', ngram_range = (3, 5)))])\n",
    "        pipeline = Pipeline([(\"features\", features), (\"clf\", Ridge())])\n",
    "        pipeline.fit(df['text'], df['y'])\n",
    "        val_preds_jigsaw1[:, fld] = pipeline.predict(df_val['less_toxic'])\n",
    "        val_preds_jigsaw2[:, fld] = pipeline.predict(df_val['more_toxic'])\n",
    "        test_preds_jigsaw[:, fld] = pipeline.predict(df_sub['text'])"
   ]
  },
  {
   "cell_type": "code",
   "execution_count": 18,
   "id": "ef410ef6",
   "metadata": {
    "execution": {
     "iopub.execute_input": "2022-02-08T06:42:04.914011Z",
     "iopub.status.busy": "2022-02-08T06:42:04.912313Z",
     "iopub.status.idle": "2022-02-08T06:42:04.914609Z",
     "shell.execute_reply": "2022-02-08T06:42:04.915005Z",
     "shell.execute_reply.started": "2022-02-07T21:47:02.686344Z"
    },
    "papermill": {
     "duration": 0.046204,
     "end_time": "2022-02-08T06:42:04.915117",
     "exception": false,
     "start_time": "2022-02-08T06:42:04.868913",
     "status": "completed"
    },
    "tags": []
   },
   "outputs": [],
   "source": [
    "if PRIVATE:\n",
    "    del df, pipeline\n",
    "    gc.collect()"
   ]
  },
  {
   "cell_type": "code",
   "execution_count": 19,
   "id": "f7d83e8d",
   "metadata": {
    "execution": {
     "iopub.execute_input": "2022-02-08T06:42:05.000149Z",
     "iopub.status.busy": "2022-02-08T06:42:04.999662Z",
     "iopub.status.idle": "2022-02-08T06:42:05.002851Z",
     "shell.execute_reply": "2022-02-08T06:42:05.003258Z",
     "shell.execute_reply.started": "2022-02-07T21:47:02.692657Z"
    },
    "papermill": {
     "duration": 0.047869,
     "end_time": "2022-02-08T06:42:05.003390",
     "exception": false,
     "start_time": "2022-02-08T06:42:04.955521",
     "status": "completed"
    },
    "tags": []
   },
   "outputs": [],
   "source": [
    "if PRIVATE:\n",
    "    val_preds_ruddit1 = np.zeros((df_val.shape[0], n_folds))\n",
    "    val_preds_ruddit2 = np.zeros((df_val.shape[0], n_folds))\n",
    "    test_preds_ruddit = np.zeros((df_sub.shape[0], n_folds))"
   ]
  },
  {
   "cell_type": "code",
   "execution_count": 20,
   "id": "678d5dd7",
   "metadata": {
    "execution": {
     "iopub.execute_input": "2022-02-08T06:42:05.090537Z",
     "iopub.status.busy": "2022-02-08T06:42:05.089860Z",
     "iopub.status.idle": "2022-02-08T06:42:05.092428Z",
     "shell.execute_reply": "2022-02-08T06:42:05.091981Z",
     "shell.execute_reply.started": "2022-02-07T21:47:02.699237Z"
    },
    "papermill": {
     "duration": 0.048397,
     "end_time": "2022-02-08T06:42:05.092532",
     "exception": false,
     "start_time": "2022-02-08T06:42:05.044135",
     "status": "completed"
    },
    "tags": []
   },
   "outputs": [],
   "source": [
    "if PRIVATE:\n",
    "    for fld in tqdm(range(n_folds)):\n",
    "        df = df_ruddit.loc[df_ruddit.fold == fld]\n",
    "        features = FeatureUnion([(\"vect3\", TfidfVectorizer(min_df = 3, max_df = 0.5, analyzer = 'char_wb', ngram_range = (3, 5)))])\n",
    "        pipeline = Pipeline([(\"features\", features), (\"clf\", Ridge())])\n",
    "        pipeline.fit(df['text'], df['y'])\n",
    "        val_preds_ruddit1[:, fld] = pipeline.predict(df_val['less_toxic'])\n",
    "        val_preds_ruddit2[:, fld] = pipeline.predict(df_val['more_toxic'])\n",
    "        test_preds_ruddit[:, fld] = pipeline.predict(df_sub['text'])"
   ]
  },
  {
   "cell_type": "code",
   "execution_count": 21,
   "id": "9bfa7bdd",
   "metadata": {
    "execution": {
     "iopub.execute_input": "2022-02-08T06:42:05.177058Z",
     "iopub.status.busy": "2022-02-08T06:42:05.176285Z",
     "iopub.status.idle": "2022-02-08T06:42:05.178661Z",
     "shell.execute_reply": "2022-02-08T06:42:05.178238Z",
     "shell.execute_reply.started": "2022-02-07T21:47:02.707472Z"
    },
    "papermill": {
     "duration": 0.045535,
     "end_time": "2022-02-08T06:42:05.178759",
     "exception": false,
     "start_time": "2022-02-08T06:42:05.133224",
     "status": "completed"
    },
    "tags": []
   },
   "outputs": [],
   "source": [
    "if PRIVATE:\n",
    "    del df, pipeline\n",
    "    gc.collect()"
   ]
  },
  {
   "cell_type": "code",
   "execution_count": 22,
   "id": "582ce85e",
   "metadata": {
    "execution": {
     "iopub.execute_input": "2022-02-08T06:42:05.263468Z",
     "iopub.status.busy": "2022-02-08T06:42:05.262800Z",
     "iopub.status.idle": "2022-02-08T06:42:05.265226Z",
     "shell.execute_reply": "2022-02-08T06:42:05.264811Z",
     "shell.execute_reply.started": "2022-02-07T21:47:02.714221Z"
    },
    "papermill": {
     "duration": 0.046361,
     "end_time": "2022-02-08T06:42:05.265334",
     "exception": false,
     "start_time": "2022-02-08T06:42:05.218973",
     "status": "completed"
    },
    "tags": []
   },
   "outputs": [],
   "source": [
    "if PRIVATE:\n",
    "    p1 = val_preds_jigsaw1.mean(axis = 1)\n",
    "    p2 = val_preds_jigsaw2.mean(axis = 1)\n",
    "    p3 = val_preds_ruddit1.mean(axis = 1)\n",
    "    p4 = val_preds_ruddit2.mean(axis = 1)\n",
    "    # p5 = val_preds_arr1c.mean(axis = 1)\n",
    "    # p6 = val_preds_arr2c.mean(axis = 1)"
   ]
  },
  {
   "cell_type": "code",
   "execution_count": 23,
   "id": "446fcea2",
   "metadata": {
    "execution": {
     "iopub.execute_input": "2022-02-08T06:42:05.351669Z",
     "iopub.status.busy": "2022-02-08T06:42:05.351056Z",
     "iopub.status.idle": "2022-02-08T06:42:05.353902Z",
     "shell.execute_reply": "2022-02-08T06:42:05.353496Z",
     "shell.execute_reply.started": "2022-02-07T21:47:02.7238Z"
    },
    "papermill": {
     "duration": 0.047932,
     "end_time": "2022-02-08T06:42:05.354003",
     "exception": false,
     "start_time": "2022-02-08T06:42:05.306071",
     "status": "completed"
    },
    "tags": []
   },
   "outputs": [],
   "source": [
    "if PRIVATE:\n",
    "    wts_acc = []\n",
    "    for i in range(1, 100, 1):\n",
    "        w1 = i / 100\n",
    "        w2 = (100 - i) / 100\n",
    "        p1_wt = w1 * p1 + w2 * p3\n",
    "        p2_wt = w1 * p2 + w2 * p4\n",
    "        wts_acc.append((w1, w2, np.round((p1_wt < p2_wt).mean() * 100, 2)))"
   ]
  },
  {
   "cell_type": "code",
   "execution_count": 24,
   "id": "46e53cb8",
   "metadata": {
    "execution": {
     "iopub.execute_input": "2022-02-08T06:42:05.438634Z",
     "iopub.status.busy": "2022-02-08T06:42:05.437907Z",
     "iopub.status.idle": "2022-02-08T06:42:05.439948Z",
     "shell.execute_reply": "2022-02-08T06:42:05.440367Z",
     "shell.execute_reply.started": "2022-02-07T21:47:02.730761Z"
    },
    "papermill": {
     "duration": 0.046227,
     "end_time": "2022-02-08T06:42:05.440491",
     "exception": false,
     "start_time": "2022-02-08T06:42:05.394264",
     "status": "completed"
    },
    "tags": []
   },
   "outputs": [],
   "source": [
    "if PRIVATE:\n",
    "    w1, w2, score = sorted(wts_acc, key = lambda x: x[2], reverse = True)[0]\n",
    "    print(score)"
   ]
  },
  {
   "cell_type": "code",
   "execution_count": 25,
   "id": "b64f0628",
   "metadata": {
    "execution": {
     "iopub.execute_input": "2022-02-08T06:42:05.524143Z",
     "iopub.status.busy": "2022-02-08T06:42:05.523564Z",
     "iopub.status.idle": "2022-02-08T06:42:05.526314Z",
     "shell.execute_reply": "2022-02-08T06:42:05.525790Z",
     "shell.execute_reply.started": "2022-02-07T21:47:02.738039Z"
    },
    "papermill": {
     "duration": 0.04569,
     "end_time": "2022-02-08T06:42:05.526431",
     "exception": false,
     "start_time": "2022-02-08T06:42:05.480741",
     "status": "completed"
    },
    "tags": []
   },
   "outputs": [],
   "source": [
    "if PRIVATE:\n",
    "    print(w1)\n",
    "    print(w2)"
   ]
  },
  {
   "cell_type": "code",
   "execution_count": 26,
   "id": "00c516da",
   "metadata": {
    "execution": {
     "iopub.execute_input": "2022-02-08T06:42:05.614409Z",
     "iopub.status.busy": "2022-02-08T06:42:05.612880Z",
     "iopub.status.idle": "2022-02-08T06:42:05.615087Z",
     "shell.execute_reply": "2022-02-08T06:42:05.615615Z",
     "shell.execute_reply.started": "2022-02-07T21:47:02.7455Z"
    },
    "papermill": {
     "duration": 0.048646,
     "end_time": "2022-02-08T06:42:05.615744",
     "exception": false,
     "start_time": "2022-02-08T06:42:05.567098",
     "status": "completed"
    },
    "tags": []
   },
   "outputs": [],
   "source": [
    "if PRIVATE:\n",
    "    p1_wt = w1 * p1 + w2 * p3\n",
    "    p2_wt = w1 * p2 + w2 * p4\n",
    "    df_val['p1'] = p1_wt\n",
    "    df_val['p2'] = p2_wt\n",
    "    df_val['diff'] = np.abs(p2_wt - p1_wt)\n",
    "    df_val['correct'] = (p1_wt < p2_wt).astype('int')\n",
    "    df_sub['score'] = w1 * test_preds_jigsaw.mean(axis = 1) + w2 * test_preds_ruddit.mean(axis = 1)\n",
    "    df_sub.to_csv(\"submission_tfidf.csv\", index = None)\n",
    "    # df_sub['score'].count() - df_sub['score'].nunique()\n",
    "\n",
    "    # same_score = df_sub['score'].value_counts().reset_index()[:10]\n",
    "    # df_sub[df_sub['score'].isin(same_score['index'].tolist())]"
   ]
  },
  {
   "cell_type": "markdown",
   "id": "674ed26a",
   "metadata": {
    "papermill": {
     "duration": 0.040108,
     "end_time": "2022-02-08T06:42:05.696000",
     "exception": false,
     "start_time": "2022-02-08T06:42:05.655892",
     "status": "completed"
    },
    "tags": []
   },
   "source": [
    "### *DEEP LEARNING* - Ranking Loss"
   ]
  },
  {
   "cell_type": "code",
   "execution_count": 27,
   "id": "c3cadb21",
   "metadata": {
    "execution": {
     "iopub.execute_input": "2022-02-08T06:42:05.831958Z",
     "iopub.status.busy": "2022-02-08T06:42:05.831408Z",
     "iopub.status.idle": "2022-02-08T06:42:06.151168Z",
     "shell.execute_reply": "2022-02-08T06:42:06.150691Z",
     "shell.execute_reply.started": "2022-02-07T21:47:02.75487Z"
    },
    "papermill": {
     "duration": 0.415171,
     "end_time": "2022-02-08T06:42:06.151310",
     "exception": false,
     "start_time": "2022-02-08T06:42:05.736139",
     "status": "completed"
    },
    "tags": []
   },
   "outputs": [],
   "source": [
    "CONFIG = dict(\n",
    "    seed = 42,\n",
    "    config_name = '../input/js-mpnet/mpnet-base/mpnet-base/config.json',\n",
    "    model_name = '../input/js-mpnet/mpnet-base/mpnet-base',\n",
    "    test_batch_size = 32,\n",
    "    max_length = 128,\n",
    "    num_classes = 1,\n",
    "    device = torch.device(\"cuda:0\" if torch.cuda.is_available() else \"cpu\"),\n",
    "    debug= False,\n",
    "    size = 768\n",
    ")\n",
    "\n",
    "CONFIG[\"tokenizer\"] = AutoTokenizer.from_pretrained(CONFIG['model_name'])"
   ]
  },
  {
   "cell_type": "code",
   "execution_count": 28,
   "id": "04ad658c",
   "metadata": {
    "execution": {
     "iopub.execute_input": "2022-02-08T06:42:06.236796Z",
     "iopub.status.busy": "2022-02-08T06:42:06.235878Z",
     "iopub.status.idle": "2022-02-08T06:42:06.403298Z",
     "shell.execute_reply": "2022-02-08T06:42:06.402760Z",
     "shell.execute_reply.started": "2022-02-07T21:47:02.867893Z"
    },
    "papermill": {
     "duration": 0.211659,
     "end_time": "2022-02-08T06:42:06.403421",
     "exception": false,
     "start_time": "2022-02-08T06:42:06.191762",
     "status": "completed"
    },
    "tags": []
   },
   "outputs": [],
   "source": [
    "val_df = pd.read_csv(\"../input/js-cleaned-validation-data/Validation_data_clean_no_duplicates.csv\")"
   ]
  },
  {
   "cell_type": "code",
   "execution_count": 29,
   "id": "23cf2d73",
   "metadata": {
    "execution": {
     "iopub.execute_input": "2022-02-08T06:42:06.489015Z",
     "iopub.status.busy": "2022-02-08T06:42:06.488498Z",
     "iopub.status.idle": "2022-02-08T06:42:06.528265Z",
     "shell.execute_reply": "2022-02-08T06:42:06.527737Z",
     "shell.execute_reply.started": "2022-02-07T21:47:03.065126Z"
    },
    "papermill": {
     "duration": 0.084122,
     "end_time": "2022-02-08T06:42:06.528382",
     "exception": false,
     "start_time": "2022-02-08T06:42:06.444260",
     "status": "completed"
    },
    "tags": []
   },
   "outputs": [],
   "source": [
    "sub_df2 = pd.read_csv(\"../input/jigsaw-toxic-severity-rating/comments_to_score.csv\")"
   ]
  },
  {
   "cell_type": "code",
   "execution_count": 30,
   "id": "26ebac79",
   "metadata": {
    "execution": {
     "iopub.execute_input": "2022-02-08T06:42:06.615238Z",
     "iopub.status.busy": "2022-02-08T06:42:06.614607Z",
     "iopub.status.idle": "2022-02-08T06:42:06.619545Z",
     "shell.execute_reply": "2022-02-08T06:42:06.619947Z",
     "shell.execute_reply.started": "2022-02-07T21:47:03.12091Z"
    },
    "papermill": {
     "duration": 0.05102,
     "end_time": "2022-02-08T06:42:06.620066",
     "exception": false,
     "start_time": "2022-02-08T06:42:06.569046",
     "status": "completed"
    },
    "tags": []
   },
   "outputs": [],
   "source": [
    "def set_seed(seed = 42):\n",
    "    '''Sets the seed of the entire notebook so results are the same every time we run.\n",
    "    This is for REPRODUCIBILITY.'''\n",
    "    np.random.seed(seed)\n",
    "    random.seed(seed)\n",
    "    torch.manual_seed(seed)\n",
    "    torch.cuda.manual_seed(seed)\n",
    "    # When running on the CuDNN backend, two further options must be set\n",
    "    torch.backends.cudnn.deterministic = True\n",
    "    torch.backends.cudnn.benchmark = False\n",
    "    # Set a fixed value for the hash seed\n",
    "    os.environ['PYTHONHASHSEED'] = str(seed)\n",
    "    \n",
    "set_seed(CONFIG['seed'])"
   ]
  },
  {
   "cell_type": "code",
   "execution_count": 31,
   "id": "4514acea",
   "metadata": {
    "execution": {
     "iopub.execute_input": "2022-02-08T06:42:06.718688Z",
     "iopub.status.busy": "2022-02-08T06:42:06.715946Z",
     "iopub.status.idle": "2022-02-08T06:42:06.720819Z",
     "shell.execute_reply": "2022-02-08T06:42:06.721224Z",
     "shell.execute_reply.started": "2022-02-07T21:47:03.132147Z"
    },
    "papermill": {
     "duration": 0.055739,
     "end_time": "2022-02-08T06:42:06.721353",
     "exception": false,
     "start_time": "2022-02-08T06:42:06.665614",
     "status": "completed"
    },
    "tags": []
   },
   "outputs": [],
   "source": [
    "model_dict = {\n",
    "    \"roberta-base\":{\n",
    "        \"model_name\": \"../input/js-roberta/roberta-base/roberta-base\",\n",
    "        \"config_name\": \"../input/js-roberta/roberta-base/roberta-base/config.json\",\n",
    "        \"model_paths\": [f\"../input/js-roberta/JS_roberta-base_RL/models/roberta-base_{fold}_model.bin\" for fold in range(5)],\n",
    "        \"version\": 0,\n",
    "        \"size\": 768\n",
    "    },\n",
    "    \"roberta-base2\":{\n",
    "        \"model_name\": \"../input/js-roberta/roberta-base/roberta-base\",\n",
    "        \"config_name\": \"../input/js-roberta/roberta-base/roberta-base/config.json\",\n",
    "        \"model_paths\": [f\"../input/js-roberta/JS_roBERTa-base-cat-multi/JS_roBERTa-base-cat-multi/roberta-base_toxic_{fold}_model.bin\" for fold in range(5)],\n",
    "        \"version\": 0,\n",
    "        \"size\": 768    \n",
    "    },\n",
    "    \"deberta-base\":{\n",
    "        \"model_name\": \"../input/js-deberta/deberta-base/deberta-base\",\n",
    "        \"config_name\": \"../input/js-deberta/deberta-base/deberta-base/config.json\",\n",
    "        \"model_paths\": [f\"../input/js-deberta/JS_deberta-base_RL/models/deberta-base_{fold}_model.bin\" for fold in range(5)],\n",
    "        \"version\": 1,\n",
    "        \"size\": 768\n",
    "    },\n",
    "    \"deberta-base2\":{\n",
    "        \"model_name\": \"../input/js-deberta/deberta-base/deberta-base\",\n",
    "        \"config_name\": \"../input/js-deberta/deberta-base/deberta-base/config.json\",\n",
    "        \"model_paths\": [f\"../input/js-deberta/JS_deberta-base-multi-cat/JS_deberta-base-multi-cat/deberta-v3-base_toxic_{fold}_model.bin\" for fold in range(5)],\n",
    "        \"version\": 2,\n",
    "        \"size\": 768\n",
    "    },\n",
    "    \"mpnet-base\":{\n",
    "        \"model_name\": \"../input/js-mpnet/mpnet-base/mpnet-base\",\n",
    "        \"config_name\": \"../input/js-mpnet/mpnet-base/mpnet-base/config.json\",\n",
    "        \"model_paths\": [f\"../input/js-mpnet/JS_mpnet-base_RL (1)/models/mpnet-base_{fold}_model.bin\" for fold in range(5)],\n",
    "        \"version\": 0,\n",
    "        \"size\": 768\n",
    "    },\n",
    "    \"mpnetv2-base\":{\n",
    "        \"model_name\": \"../input/js-mpnet/all-mpnet-base-v2/all-mpnet-base-v2\",\n",
    "        \"config_name\": \"../input/js-mpnet/all-mpnet-base-v2/all-mpnet-base-v2/config.json\",\n",
    "        \"model_paths\": [f\"../input/js-mpnet/JS_mpnetv2-base_RL/models/all-mpnet-base-v2_{fold}_model.bin\" for fold in range(5)],\n",
    "        \"version\": 0,\n",
    "        \"size\": 768\n",
    "    },\n",
    "    \"mpnetv2-base2\":{\n",
    "        \"model_name\": \"../input/js-mpnet/all-mpnet-base-v2/all-mpnet-base-v2\",\n",
    "        \"config_name\": \"../input/js-mpnet/all-mpnet-base-v2/all-mpnet-base-v2/config.json\",\n",
    "        \"model_paths\": [f\"../input/js-mpnet/JS_p0 (2)/content/models/all-mpnet-base-v2_toxic_{fold}_model.bin\" for fold in range(5)],\n",
    "        \"version\": 0,\n",
    "        \"size\": 768\n",
    "    },\n",
    "    \"albert-base\":{\n",
    "        \"model_name\": \"../input/js-albert/albert-base-v2/albert-base-v2\",\n",
    "        \"config_name\": \"../input/js-albert/albert-base-v2/albert-base-v2/config.json\",\n",
    "        \"model_paths\": [f\"../input/js-albert/JS_albert-base_RL/models/albert-base-v2_{fold}_model.bin\" for fold in range(5)],\n",
    "        \"version\": 0,\n",
    "        \"size\": 768\n",
    "    },    \n",
    "}"
   ]
  },
  {
   "cell_type": "code",
   "execution_count": 32,
   "id": "f93681f3",
   "metadata": {
    "execution": {
     "iopub.execute_input": "2022-02-08T06:42:06.809248Z",
     "iopub.status.busy": "2022-02-08T06:42:06.808713Z",
     "iopub.status.idle": "2022-02-08T06:42:06.811536Z",
     "shell.execute_reply": "2022-02-08T06:42:06.811913Z",
     "shell.execute_reply.started": "2022-02-07T21:47:03.145354Z"
    },
    "papermill": {
     "duration": 0.050436,
     "end_time": "2022-02-08T06:42:06.812035",
     "exception": false,
     "start_time": "2022-02-08T06:42:06.761599",
     "status": "completed"
    },
    "tags": []
   },
   "outputs": [],
   "source": [
    "class JigsawDataset(Dataset):\n",
    "    def __init__(self, df, tokenizer, max_length, col):\n",
    "        self.df = df\n",
    "        self.max_len = max_length\n",
    "        self.tokenizer = tokenizer\n",
    "        self.text = self.df[col].values\n",
    "        \n",
    "    def __len__(self):\n",
    "        return len(self.df)\n",
    "    \n",
    "    def __getitem__(self, index):\n",
    "        text = self.text[index]\n",
    "        inputs = self.tokenizer.encode_plus(\n",
    "                        text,\n",
    "                        truncation=True,\n",
    "                        add_special_tokens=True,\n",
    "                        max_length=self.max_len,\n",
    "                        padding='max_length'\n",
    "                    )\n",
    "        \n",
    "        ids = inputs['input_ids']\n",
    "        mask = inputs['attention_mask']        \n",
    "        \n",
    "        return {\n",
    "            'ids': torch.tensor(ids, dtype=torch.long),\n",
    "            'mask': torch.tensor(mask, dtype=torch.long)\n",
    "        }"
   ]
  },
  {
   "cell_type": "code",
   "execution_count": 33,
   "id": "cec2be16",
   "metadata": {
    "execution": {
     "iopub.execute_input": "2022-02-08T06:42:06.900765Z",
     "iopub.status.busy": "2022-02-08T06:42:06.899994Z",
     "iopub.status.idle": "2022-02-08T06:42:06.902349Z",
     "shell.execute_reply": "2022-02-08T06:42:06.901902Z",
     "shell.execute_reply.started": "2022-02-07T21:47:03.159946Z"
    },
    "papermill": {
     "duration": 0.04887,
     "end_time": "2022-02-08T06:42:06.902456",
     "exception": false,
     "start_time": "2022-02-08T06:42:06.853586",
     "status": "completed"
    },
    "tags": []
   },
   "outputs": [],
   "source": [
    "class JigsawModel(nn.Module):\n",
    "    def __init__(self, config_name):\n",
    "        super(JigsawModel, self).__init__()\n",
    "        config = AutoConfig.from_pretrained(config_name)\n",
    "        self.model = AutoModel.from_config(config = config)\n",
    "        self.drop = nn.Dropout(p=0.2)\n",
    "        self.fc1 = nn.Linear(CONFIG['size'],256)\n",
    "        self.fc2 = nn.Linear(256,CONFIG['num_classes'])\n",
    "\n",
    "    def forward(self, ids, mask):        \n",
    "        out = self.model(input_ids=ids,attention_mask=mask,\n",
    "                         output_hidden_states=False)\n",
    "        out = self.drop(out[1])\n",
    "        outputs = self.fc2(self.fc1(out))\n",
    "        return outputs"
   ]
  },
  {
   "cell_type": "code",
   "execution_count": 34,
   "id": "008aa7f9",
   "metadata": {
    "execution": {
     "iopub.execute_input": "2022-02-08T06:42:06.996644Z",
     "iopub.status.busy": "2022-02-08T06:42:06.995965Z",
     "iopub.status.idle": "2022-02-08T06:42:06.998549Z",
     "shell.execute_reply": "2022-02-08T06:42:06.998096Z",
     "shell.execute_reply.started": "2022-02-07T21:47:03.171435Z"
    },
    "papermill": {
     "duration": 0.055921,
     "end_time": "2022-02-08T06:42:06.998652",
     "exception": false,
     "start_time": "2022-02-08T06:42:06.942731",
     "status": "completed"
    },
    "tags": []
   },
   "outputs": [],
   "source": [
    "class AttentionHead(nn.Module):\n",
    "    def __init__(self, in_features, hidden_dim):\n",
    "        super().__init__()\n",
    "        self.in_features = in_features\n",
    "        self.middle_features = hidden_dim\n",
    "        self.W = nn.Linear(in_features, hidden_dim)\n",
    "        self.V = nn.Linear(hidden_dim, 1)\n",
    "        self.out_features = hidden_dim\n",
    "\n",
    "    def forward(self, features):\n",
    "        att = torch.tanh(self.W(features))\n",
    "        score = self.V(att)\n",
    "        attention_weights = torch.softmax(score, dim=1)\n",
    "        context_vector = attention_weights * features\n",
    "        context_vector = torch.sum(context_vector, dim=1)\n",
    "\n",
    "        return context_vector\n",
    "\n",
    "class JigsawModel2(nn.Module):\n",
    "    def __init__(self, model_name, config_path=None, pretrained=False):\n",
    "        super().__init__()\n",
    "        self.config = AutoConfig.from_pretrained(model_name, output_hidden_states=True)\n",
    "        self.model = AutoModel.from_config(config=self.config)\n",
    "        self.head = AttentionHead(self.config.hidden_size,self.config.hidden_size)\n",
    "        self.dropout = nn.Dropout(0.4)\n",
    "        self.linear = nn.Linear(self.config.hidden_size,1)\n",
    "\n",
    "    def forward(self, ids, mask):\n",
    "        x = self.model(input_ids=ids,attention_mask=mask)[0]\n",
    "        x = self.head(x)\n",
    "        x = self.dropout(x)\n",
    "        x = self.linear(x)\n",
    "        return x\n",
    "\n",
    "class JigsawModel3(nn.Module):\n",
    "    def __init__(self, model_name, config_path=None, pretrained=False):\n",
    "        super().__init__()\n",
    "        self.config = AutoConfig.from_pretrained(model_name, output_hidden_states=True)\n",
    "        self.model = AutoModel.from_config(config=self.config)\n",
    "        self.head = AttentionHead(self.config.hidden_size,self.config.hidden_size)\n",
    "        self.dropout = nn.Dropout(0.4)\n",
    "        self.fc1 = nn.Linear(self.config.hidden_size,256)\n",
    "        self.fc2 = nn.Linear(256,1)\n",
    "\n",
    "    def forward(self, ids, mask):\n",
    "        x = self.model(input_ids=ids,attention_mask=mask)[0]\n",
    "        x = self.head(x)\n",
    "        x = self.dropout(x)\n",
    "        x = self.fc1(x)\n",
    "        x = torch.sigmoid(self.fc2(x))\n",
    "        return x"
   ]
  },
  {
   "cell_type": "code",
   "execution_count": 35,
   "id": "e4b984c4",
   "metadata": {
    "execution": {
     "iopub.execute_input": "2022-02-08T06:42:07.086639Z",
     "iopub.status.busy": "2022-02-08T06:42:07.085928Z",
     "iopub.status.idle": "2022-02-08T06:42:07.087857Z",
     "shell.execute_reply": "2022-02-08T06:42:07.088255Z",
     "shell.execute_reply.started": "2022-02-07T21:47:03.190134Z"
    },
    "papermill": {
     "duration": 0.048856,
     "end_time": "2022-02-08T06:42:07.088381",
     "exception": false,
     "start_time": "2022-02-08T06:42:07.039525",
     "status": "completed"
    },
    "tags": []
   },
   "outputs": [],
   "source": [
    "@torch.no_grad()\n",
    "def valid_fn(model, dataloader, device):\n",
    "    model.eval()\n",
    "    \n",
    "    dataset_size = 0\n",
    "    running_loss = 0.0\n",
    "    \n",
    "    PREDS = []\n",
    "    \n",
    "    bar = tqdm(enumerate(dataloader), total=len(dataloader))\n",
    "    for step, data in bar:\n",
    "        ids = data['ids'].to(device, dtype = torch.long)\n",
    "        mask = data['mask'].to(device, dtype = torch.long)\n",
    "        \n",
    "        outputs = model(ids, mask)\n",
    "        PREDS.append(outputs.sigmoid().view(-1).cpu().detach().numpy()) \n",
    "    \n",
    "    PREDS = np.concatenate(PREDS)\n",
    "    del model\n",
    "    gc.collect()\n",
    "    \n",
    "    return PREDS"
   ]
  },
  {
   "cell_type": "code",
   "execution_count": 36,
   "id": "7a0515e6",
   "metadata": {
    "execution": {
     "iopub.execute_input": "2022-02-08T06:42:07.175683Z",
     "iopub.status.busy": "2022-02-08T06:42:07.174953Z",
     "iopub.status.idle": "2022-02-08T06:42:07.177339Z",
     "shell.execute_reply": "2022-02-08T06:42:07.176895Z",
     "shell.execute_reply.started": "2022-02-07T21:47:03.201864Z"
    },
    "papermill": {
     "duration": 0.048442,
     "end_time": "2022-02-08T06:42:07.177443",
     "exception": false,
     "start_time": "2022-02-08T06:42:07.129001",
     "status": "completed"
    },
    "tags": []
   },
   "outputs": [],
   "source": [
    "def inference(model_paths, dataloader, device, version):\n",
    "    final_preds = []\n",
    "    for i, path in enumerate(model_paths):\n",
    "        if version == 1:\n",
    "            model = JigsawModel2(CONFIG['config_name'])\n",
    "        elif version == 0:\n",
    "            model = JigsawModel(CONFIG[\"config_name\"])\n",
    "        elif version ==2:\n",
    "            model = JigsawModel3(CONFIG[\"config_name\"])\n",
    "        model.to(CONFIG['device'])\n",
    "        model.load_state_dict(torch.load(path, map_location = device))\n",
    "        \n",
    "        print(f\"Getting predictions for model {i+1}\")\n",
    "        preds = valid_fn(model, dataloader, device)\n",
    "        final_preds.append(preds)\n",
    "    \n",
    "    final_preds = np.array(final_preds)\n",
    "    final_preds = np.mean(final_preds, axis=0)\n",
    "    return final_preds"
   ]
  },
  {
   "cell_type": "code",
   "execution_count": 37,
   "id": "741bfd5d",
   "metadata": {
    "execution": {
     "iopub.execute_input": "2022-02-08T06:42:07.267722Z",
     "iopub.status.busy": "2022-02-08T06:42:07.266969Z",
     "iopub.status.idle": "2022-02-08T06:42:07.268915Z",
     "shell.execute_reply": "2022-02-08T06:42:07.269344Z",
     "shell.execute_reply.started": "2022-02-07T21:47:03.213799Z"
    },
    "papermill": {
     "duration": 0.051696,
     "end_time": "2022-02-08T06:42:07.269465",
     "exception": false,
     "start_time": "2022-02-08T06:42:07.217769",
     "status": "completed"
    },
    "tags": []
   },
   "outputs": [],
   "source": [
    "def inference_multimodel(model_dict, device, col = 'text', df = sub_df2):\n",
    "    \n",
    "    pred =pd.DataFrame()\n",
    "    pred \n",
    "    for key, item in model_dict.items():\n",
    "        print(key)\n",
    "        CONFIG[\"tokenizer\"] = AutoTokenizer.from_pretrained(item['model_name']) \n",
    "        CONFIG[\"config_name\"] = item[\"config_name\"]\n",
    "        CONFIG[\"size\"] = item[\"size\"]\n",
    "        MODEL_PATHS = item[\"model_paths\"]\n",
    "        version = item[\"version\"]\n",
    "        test_dataset = JigsawDataset(df, CONFIG['tokenizer'], max_length=CONFIG['max_length'], col = col)\n",
    "        test_loader = DataLoader(test_dataset, batch_size=CONFIG['test_batch_size'],\n",
    "                                 num_workers=2, shuffle=False, pin_memory=True)\n",
    "        preds = inference(MODEL_PATHS, test_loader, device, version)\n",
    "        pred[key] = preds   \n",
    "    return pred"
   ]
  },
  {
   "cell_type": "code",
   "execution_count": 38,
   "id": "ebbf9a60",
   "metadata": {
    "execution": {
     "iopub.execute_input": "2022-02-08T06:42:07.352817Z",
     "iopub.status.busy": "2022-02-08T06:42:07.352012Z",
     "iopub.status.idle": "2022-02-08T06:42:07.357666Z",
     "shell.execute_reply": "2022-02-08T06:42:07.357142Z",
     "shell.execute_reply.started": "2022-02-07T21:47:03.22465Z"
    },
    "papermill": {
     "duration": 0.048112,
     "end_time": "2022-02-08T06:42:07.357782",
     "exception": false,
     "start_time": "2022-02-08T06:42:07.309670",
     "status": "completed"
    },
    "tags": []
   },
   "outputs": [],
   "source": [
    "if PRIVATE:\n",
    "    if VAL:\n",
    "        preds_more_toxic_ = inference_multimodel(model_dict, CONFIG['device'], col = \"more_toxic\", df = val_df)\n",
    "        preds_less_toxic_ = inference_multimodel(model_dict, CONFIG['device'], col = \"less_toxic\", df = val_df)\n",
    "        p1 = preds_more_toxic_[list(model_dict.keys())].mean(axis = 1)\n",
    "        p2 = preds_less_toxic_[list(model_dict.keys())].mean(axis = 1)\n",
    "        print(f\"Accuracy: {np.round((p2 < p1).mean() * 100, 2)}\")"
   ]
  },
  {
   "cell_type": "code",
   "execution_count": 39,
   "id": "51424cd1",
   "metadata": {
    "execution": {
     "iopub.execute_input": "2022-02-08T06:42:07.442688Z",
     "iopub.status.busy": "2022-02-08T06:42:07.441947Z",
     "iopub.status.idle": "2022-02-08T06:42:07.444302Z",
     "shell.execute_reply": "2022-02-08T06:42:07.443860Z",
     "shell.execute_reply.started": "2022-02-07T21:48:12.311584Z"
    },
    "papermill": {
     "duration": 0.046045,
     "end_time": "2022-02-08T06:42:07.444413",
     "exception": false,
     "start_time": "2022-02-08T06:42:07.398368",
     "status": "completed"
    },
    "tags": []
   },
   "outputs": [],
   "source": [
    "if PRIVATE:\n",
    "    preds = inference_multimodel(model_dict, CONFIG['device'], col = \"text\", df = sub_df2)"
   ]
  },
  {
   "cell_type": "code",
   "execution_count": 40,
   "id": "40cc032e",
   "metadata": {
    "execution": {
     "iopub.execute_input": "2022-02-08T06:42:07.529078Z",
     "iopub.status.busy": "2022-02-08T06:42:07.528286Z",
     "iopub.status.idle": "2022-02-08T06:42:07.530007Z",
     "shell.execute_reply": "2022-02-08T06:42:07.530477Z",
     "shell.execute_reply.started": "2022-02-07T21:47:03.247122Z"
    },
    "papermill": {
     "duration": 0.046077,
     "end_time": "2022-02-08T06:42:07.530596",
     "exception": false,
     "start_time": "2022-02-08T06:42:07.484519",
     "status": "completed"
    },
    "tags": []
   },
   "outputs": [],
   "source": [
    "if PRIVATE:\n",
    "    preds[\"score\"] = preds[list(model_dict.keys())].mean(axis = 1)"
   ]
  },
  {
   "cell_type": "code",
   "execution_count": 41,
   "id": "27240dac",
   "metadata": {
    "execution": {
     "iopub.execute_input": "2022-02-08T06:42:07.618447Z",
     "iopub.status.busy": "2022-02-08T06:42:07.617792Z",
     "iopub.status.idle": "2022-02-08T06:42:07.620788Z",
     "shell.execute_reply": "2022-02-08T06:42:07.621176Z",
     "shell.execute_reply.started": "2022-02-07T21:47:03.253962Z"
    },
    "papermill": {
     "duration": 0.047361,
     "end_time": "2022-02-08T06:42:07.621303",
     "exception": false,
     "start_time": "2022-02-08T06:42:07.573942",
     "status": "completed"
    },
    "tags": []
   },
   "outputs": [],
   "source": [
    "if PRIVATE:\n",
    "    sub_df2[\"score\"] = preds[\"score\"]\n",
    "    sub_df2.to_csv(\"submission_DL.csv\", index=None)"
   ]
  },
  {
   "cell_type": "markdown",
   "id": "f88af0ac",
   "metadata": {
    "papermill": {
     "duration": 0.040086,
     "end_time": "2022-02-08T06:42:07.701596",
     "exception": false,
     "start_time": "2022-02-08T06:42:07.661510",
     "status": "completed"
    },
    "tags": []
   },
   "source": [
    "### *FASTTEXT*"
   ]
  },
  {
   "cell_type": "code",
   "execution_count": 42,
   "id": "e73a68c7",
   "metadata": {
    "execution": {
     "iopub.execute_input": "2022-02-08T06:42:07.785766Z",
     "iopub.status.busy": "2022-02-08T06:42:07.785267Z",
     "iopub.status.idle": "2022-02-08T06:42:07.788087Z",
     "shell.execute_reply": "2022-02-08T06:42:07.787648Z",
     "shell.execute_reply.started": "2022-02-07T21:47:03.261841Z"
    },
    "papermill": {
     "duration": 0.046435,
     "end_time": "2022-02-08T06:42:07.788212",
     "exception": false,
     "start_time": "2022-02-08T06:42:07.741777",
     "status": "completed"
    },
    "tags": []
   },
   "outputs": [],
   "source": [
    "N_MODELS = 4\n",
    "EXTRA_DIM = 256\n",
    "ALPHA_STEP_SIZE = 0.5"
   ]
  },
  {
   "cell_type": "code",
   "execution_count": 43,
   "id": "5f1b24b6",
   "metadata": {
    "execution": {
     "iopub.execute_input": "2022-02-08T06:42:07.875912Z",
     "iopub.status.busy": "2022-02-08T06:42:07.875132Z",
     "iopub.status.idle": "2022-02-08T06:42:07.877113Z",
     "shell.execute_reply": "2022-02-08T06:42:07.877500Z",
     "shell.execute_reply.started": "2022-02-07T21:47:03.268344Z"
    },
    "papermill": {
     "duration": 0.049548,
     "end_time": "2022-02-08T06:42:07.877616",
     "exception": false,
     "start_time": "2022-02-08T06:42:07.828068",
     "status": "completed"
    },
    "tags": []
   },
   "outputs": [],
   "source": [
    "def text_cleaning_fasttext(text):\n",
    "    template = re.compile(r'https?://\\S+|www\\.\\S+')\n",
    "    text = template.sub(r'', text)\n",
    "    soup = BeautifulSoup(text, 'lxml')\n",
    "    only_text = soup.get_text()\n",
    "    text = only_text\n",
    "    emoji_pattern = re.compile(\"[\"\n",
    "                               u\"\\U0001F600-\\U0001F64F\"\n",
    "                               u\"\\U0001F300-\\U0001F5FF\"\n",
    "                               u\"\\U0001F680-\\U0001F6FF\"\n",
    "                               u\"\\U0001F1E0-\\U0001F1FF\"\n",
    "                               u\"\\U00002702-\\U000027B0\"\n",
    "                               u\"\\U000024C2-\\U0001F251\"\n",
    "                               \"]+\", flags = re.UNICODE)\n",
    "    text = emoji_pattern.sub(r'', text)\n",
    "    text = re.sub(r\"[^a-zA-Z\\d]\", \" \", text)\n",
    "    text = re.sub(' +', ' ', text)\n",
    "    text = text.strip()\n",
    "    return text"
   ]
  },
  {
   "cell_type": "code",
   "execution_count": 44,
   "id": "5cbc5514",
   "metadata": {
    "execution": {
     "iopub.execute_input": "2022-02-08T06:42:07.961904Z",
     "iopub.status.busy": "2022-02-08T06:42:07.961146Z",
     "iopub.status.idle": "2022-02-08T06:42:07.963577Z",
     "shell.execute_reply": "2022-02-08T06:42:07.963119Z",
     "shell.execute_reply.started": "2022-02-07T21:47:03.27644Z"
    },
    "papermill": {
     "duration": 0.046125,
     "end_time": "2022-02-08T06:42:07.963675",
     "exception": false,
     "start_time": "2022-02-08T06:42:07.917550",
     "status": "completed"
    },
    "tags": []
   },
   "outputs": [],
   "source": [
    "if PRIVATE:\n",
    "    df = pd.read_csv('../input/jigsaw-regression-based-data/train_data_version3.csv')\n",
    "    df = df.dropna(axis = 0)"
   ]
  },
  {
   "cell_type": "code",
   "execution_count": 45,
   "id": "0f2b178a",
   "metadata": {
    "execution": {
     "iopub.execute_input": "2022-02-08T06:42:08.048710Z",
     "iopub.status.busy": "2022-02-08T06:42:08.048002Z",
     "iopub.status.idle": "2022-02-08T06:42:08.050122Z",
     "shell.execute_reply": "2022-02-08T06:42:08.050558Z",
     "shell.execute_reply.started": "2022-02-07T21:47:03.283629Z"
    },
    "papermill": {
     "duration": 0.04673,
     "end_time": "2022-02-08T06:42:08.050679",
     "exception": false,
     "start_time": "2022-02-08T06:42:08.003949",
     "status": "completed"
    },
    "tags": []
   },
   "outputs": [],
   "source": [
    "if PRIVATE:\n",
    "    df[\"text\"] = df[\"text\"].progress_apply(text_cleaning_fasttext)"
   ]
  },
  {
   "cell_type": "code",
   "execution_count": 46,
   "id": "3c486d17",
   "metadata": {
    "execution": {
     "iopub.execute_input": "2022-02-08T06:42:08.136709Z",
     "iopub.status.busy": "2022-02-08T06:42:08.136004Z",
     "iopub.status.idle": "2022-02-08T06:42:08.138613Z",
     "shell.execute_reply": "2022-02-08T06:42:08.138149Z",
     "shell.execute_reply.started": "2022-02-07T21:47:03.290317Z"
    },
    "papermill": {
     "duration": 0.047433,
     "end_time": "2022-02-08T06:42:08.138713",
     "exception": false,
     "start_time": "2022-02-08T06:42:08.091280",
     "status": "completed"
    },
    "tags": []
   },
   "outputs": [],
   "source": [
    "if PRIVATE:\n",
    "    vec = TfidfVectorizer(min_df = 3, max_df = 0.5, analyzer = 'char_wb', ngram_range = (3, 5), max_features = 46000)\n",
    "    vec.fit(df['text'])"
   ]
  },
  {
   "cell_type": "code",
   "execution_count": 47,
   "id": "f7b2b73d",
   "metadata": {
    "execution": {
     "iopub.execute_input": "2022-02-08T06:42:08.222576Z",
     "iopub.status.busy": "2022-02-08T06:42:08.221856Z",
     "iopub.status.idle": "2022-02-08T06:42:08.223766Z",
     "shell.execute_reply": "2022-02-08T06:42:08.224122Z",
     "shell.execute_reply.started": "2022-02-07T21:47:03.297692Z"
    },
    "papermill": {
     "duration": 0.045571,
     "end_time": "2022-02-08T06:42:08.224265",
     "exception": false,
     "start_time": "2022-02-08T06:42:08.178694",
     "status": "completed"
    },
    "tags": []
   },
   "outputs": [],
   "source": [
    "if PRIVATE:\n",
    "    fmodel = FastText.load('../input/jigsaw-regression-based-data/FastText-jigsaw-256D/Jigsaw-Fasttext-Word-Embeddings-256D.bin')"
   ]
  },
  {
   "cell_type": "code",
   "execution_count": 48,
   "id": "8b1a86df",
   "metadata": {
    "execution": {
     "iopub.execute_input": "2022-02-08T06:42:08.373038Z",
     "iopub.status.busy": "2022-02-08T06:42:08.372250Z",
     "iopub.status.idle": "2022-02-08T06:42:08.376214Z",
     "shell.execute_reply": "2022-02-08T06:42:08.376893Z",
     "shell.execute_reply.started": "2022-02-07T21:47:03.308646Z"
    },
    "papermill": {
     "duration": 0.089244,
     "end_time": "2022-02-08T06:42:08.377104",
     "exception": false,
     "start_time": "2022-02-08T06:42:08.287860",
     "status": "completed"
    },
    "tags": []
   },
   "outputs": [],
   "source": [
    "def splitter(text): \n",
    "    return [word for word in text.split(' ')]\n",
    "\n",
    "def vectorizer(text):\n",
    "    tokens = splitter(text)\n",
    "    x1 = vec.transform([text]).toarray()\n",
    "    x2 = np.mean(fmodel.wv[tokens], axis = 0).reshape(1, -1)\n",
    "    x = np.concatenate([x1, x2], axis = -1).astype(np.float16)\n",
    "    del x1\n",
    "    del x2\n",
    "    return x"
   ]
  },
  {
   "cell_type": "code",
   "execution_count": 49,
   "id": "c10d36d4",
   "metadata": {
    "execution": {
     "iopub.execute_input": "2022-02-08T06:42:08.528539Z",
     "iopub.status.busy": "2022-02-08T06:42:08.527693Z",
     "iopub.status.idle": "2022-02-08T06:42:08.529894Z",
     "shell.execute_reply": "2022-02-08T06:42:08.529249Z",
     "shell.execute_reply.started": "2022-02-07T21:47:03.315628Z"
    },
    "papermill": {
     "duration": 0.078815,
     "end_time": "2022-02-08T06:42:08.530041",
     "exception": false,
     "start_time": "2022-02-08T06:42:08.451226",
     "status": "completed"
    },
    "tags": []
   },
   "outputs": [],
   "source": [
    "if PRIVATE:\n",
    "    X_np = np.array([vectorizer(text) for text in df.text]).reshape(-1, (len(vec.vocabulary_) + EXTRA_DIM))\n",
    "    X = sparse.csr_matrix(X_np)\n",
    "    del X_np"
   ]
  },
  {
   "cell_type": "code",
   "execution_count": 50,
   "id": "2b790962",
   "metadata": {
    "execution": {
     "iopub.execute_input": "2022-02-08T06:42:08.670700Z",
     "iopub.status.busy": "2022-02-08T06:42:08.669927Z",
     "iopub.status.idle": "2022-02-08T06:42:08.673738Z",
     "shell.execute_reply": "2022-02-08T06:42:08.674311Z",
     "shell.execute_reply.started": "2022-02-07T21:47:03.323189Z"
    },
    "papermill": {
     "duration": 0.078485,
     "end_time": "2022-02-08T06:42:08.674488",
     "exception": false,
     "start_time": "2022-02-08T06:42:08.596003",
     "status": "completed"
    },
    "tags": []
   },
   "outputs": [],
   "source": [
    "class RidgeEnsemble():\n",
    "    def __init__(self, n_models = 4, alpha_step_size = 0.5): \n",
    "\n",
    "        self.models = [Ridge(alpha = alpha) for alpha in [alpha_step_size * i for i in range(1, n_models + 1)]]\n",
    "\n",
    "    def fit(self, X, y): \n",
    "\n",
    "        self.models = [model.fit(X, y) for model in self.models]\n",
    "\n",
    "    def predict(self, X): \n",
    "\n",
    "        return np.mean(np.concatenate([np.expand_dims(model.predict(X), axis = 0) for model in self.models], axis = 0), axis = 0)"
   ]
  },
  {
   "cell_type": "code",
   "execution_count": 51,
   "id": "30af2c6c",
   "metadata": {
    "execution": {
     "iopub.execute_input": "2022-02-08T06:42:08.812076Z",
     "iopub.status.busy": "2022-02-08T06:42:08.811381Z",
     "iopub.status.idle": "2022-02-08T06:42:08.816745Z",
     "shell.execute_reply": "2022-02-08T06:42:08.816022Z",
     "shell.execute_reply.started": "2022-02-07T21:47:03.330212Z"
    },
    "papermill": {
     "duration": 0.076821,
     "end_time": "2022-02-08T06:42:08.816903",
     "exception": false,
     "start_time": "2022-02-08T06:42:08.740082",
     "status": "completed"
    },
    "tags": []
   },
   "outputs": [],
   "source": [
    "if PRIVATE:\n",
    "    model = RidgeEnsemble()\n",
    "    model.fit(X, df['y'])"
   ]
  },
  {
   "cell_type": "code",
   "execution_count": 52,
   "id": "a826234d",
   "metadata": {
    "execution": {
     "iopub.execute_input": "2022-02-08T06:42:08.913316Z",
     "iopub.status.busy": "2022-02-08T06:42:08.912579Z",
     "iopub.status.idle": "2022-02-08T06:42:08.914962Z",
     "shell.execute_reply": "2022-02-08T06:42:08.914553Z",
     "shell.execute_reply.started": "2022-02-07T21:47:03.341075Z"
    },
    "papermill": {
     "duration": 0.050548,
     "end_time": "2022-02-08T06:42:08.915062",
     "exception": false,
     "start_time": "2022-02-08T06:42:08.864514",
     "status": "completed"
    },
    "tags": []
   },
   "outputs": [],
   "source": [
    "if PRIVATE:\n",
    "    if VAL:\n",
    "        val_df = pd.read_csv(\"../input/js-cleaned-validation-data/Validation_data_clean_no_duplicates.csv\")\n",
    "\n",
    "        val_df[\"more_toxic\"] = val_df[\"more_toxic\"].progress_apply(text_cleaning_fasttext)\n",
    "        val_df[\"less_toxic\"] = val_df[\"less_toxic\"].progress_apply(text_cleaning_fasttext)\n",
    "\n",
    "        X_less_toxic_temp = []\n",
    "        for text in val_df.less_toxic: \n",
    "            X_less_toxic_temp.append(vectorizer(text))\n",
    "        X_less_toxic_temp = np.array(X_less_toxic_temp).reshape(-1, (len(vec.vocabulary_) + EXTRA_DIM))\n",
    "        X_less_toxic = sparse.csr_matrix(X_less_toxic_temp)\n",
    "        del X_less_toxic_temp\n",
    "\n",
    "        X_more_toxic_temp = []\n",
    "        for text in val_df.more_toxic: \n",
    "            X_more_toxic_temp.append(vectorizer(text))\n",
    "        X_more_toxic_temp = np.array(X_more_toxic_temp).reshape(-1, (len(vec.vocabulary_) + EXTRA_DIM))\n",
    "        X_more_toxic = sparse.csr_matrix(X_more_toxic_temp)\n",
    "        del X_more_toxic_temp\n",
    "\n",
    "        preds_more_toxic = model.predict(X_more_toxic)\n",
    "        preds_less_toxic = model.predict(X_less_toxic)\n",
    "\n",
    "        print(f\"Accuracy: {np.round((preds_less_toxic < preds_more_toxic).mean() * 100, 2)}\")"
   ]
  },
  {
   "cell_type": "code",
   "execution_count": 53,
   "id": "1c76ab0e",
   "metadata": {
    "execution": {
     "iopub.execute_input": "2022-02-08T06:42:09.001668Z",
     "iopub.status.busy": "2022-02-08T06:42:09.000930Z",
     "iopub.status.idle": "2022-02-08T06:42:09.003331Z",
     "shell.execute_reply": "2022-02-08T06:42:09.002911Z",
     "shell.execute_reply.started": "2022-02-07T21:47:03.349236Z"
    },
    "papermill": {
     "duration": 0.048039,
     "end_time": "2022-02-08T06:42:09.003447",
     "exception": false,
     "start_time": "2022-02-08T06:42:08.955408",
     "status": "completed"
    },
    "tags": []
   },
   "outputs": [],
   "source": [
    "if PRIVATE:\n",
    "    df_sub3 = pd.read_csv(\"../input/jigsaw-toxic-severity-rating/comments_to_score.csv\")\n",
    "    df_sub3['text'] = df_sub3['text'].progress_apply(text_cleaning_fasttext)\n",
    "    X_sub_temp = []\n",
    "    for text in df_sub3.text: \n",
    "        X_sub_temp.append(vectorizer(text))\n",
    "    X_sub_temp = np.array(X_sub_temp).reshape(-1, (len(vec.vocabulary_) + 256))\n",
    "    X_test = sparse.csr_matrix(X_sub_temp)\n",
    "    del X_sub_temp\n",
    "\n",
    "    df_sub3['score'] = model.predict(X_test)\n",
    "    df_sub3['score'] = df_sub3['score']\n",
    "    df_sub3[['comment_id', 'score']].to_csv(\"submission_fasttext.csv\", index = False)"
   ]
  },
  {
   "cell_type": "code",
   "execution_count": 54,
   "id": "91d0e34d",
   "metadata": {
    "execution": {
     "iopub.execute_input": "2022-02-08T06:42:09.091733Z",
     "iopub.status.busy": "2022-02-08T06:42:09.090988Z",
     "iopub.status.idle": "2022-02-08T06:42:09.093398Z",
     "shell.execute_reply": "2022-02-08T06:42:09.092953Z",
     "shell.execute_reply.started": "2022-02-07T21:47:03.356558Z"
    },
    "papermill": {
     "duration": 0.049776,
     "end_time": "2022-02-08T06:42:09.093503",
     "exception": false,
     "start_time": "2022-02-08T06:42:09.043727",
     "status": "completed"
    },
    "tags": []
   },
   "outputs": [],
   "source": [
    "if PRIVATE:\n",
    "    if VAL:\n",
    "        p1 = p2_wt\n",
    "        p2 = p1_wt\n",
    "        p3 = preds_more_toxic_[list(model_dict.keys())].mean(axis = 1)\n",
    "        p4 = preds_less_toxic_[list(model_dict.keys())].mean(axis = 1)\n",
    "        p5 = preds_more_toxic\n",
    "        p6 = preds_less_toxic\n",
    "        wts_acc_ = []\n",
    "        for i in range(1, 100, 1):\n",
    "            for j in range(i,100, 1):\n",
    "                w1 = i / 100\n",
    "                w2 = j / 100\n",
    "                w3 = (100 - i - j) / 100\n",
    "                if (w3>0):\n",
    "                    p1_wt = w1 * p1 + w2 * p3 + w3 * p5\n",
    "                    p2_wt = w1 * p2 + w2 * p4 + w3 * p6\n",
    "                    wts_acc_.append((w1, w2, w3, np.round((p2_wt < p1_wt).mean() * 100, 2)))\n",
    "        w1_, w2_, w3_, score = sorted(wts_acc_, key = lambda x: x[3], reverse = True)[0]"
   ]
  },
  {
   "cell_type": "code",
   "execution_count": 55,
   "id": "c8e4abe2",
   "metadata": {
    "execution": {
     "iopub.execute_input": "2022-02-08T06:42:09.178280Z",
     "iopub.status.busy": "2022-02-08T06:42:09.177529Z",
     "iopub.status.idle": "2022-02-08T06:42:09.179932Z",
     "shell.execute_reply": "2022-02-08T06:42:09.179451Z",
     "shell.execute_reply.started": "2022-02-07T21:47:03.365712Z"
    },
    "papermill": {
     "duration": 0.045501,
     "end_time": "2022-02-08T06:42:09.180031",
     "exception": false,
     "start_time": "2022-02-08T06:42:09.134530",
     "status": "completed"
    },
    "tags": []
   },
   "outputs": [],
   "source": [
    "w1_ = 0.7\n",
    "w2_ = 0.15\n",
    "w3_ = 0.15"
   ]
  },
  {
   "cell_type": "code",
   "execution_count": 56,
   "id": "413bdab5",
   "metadata": {
    "execution": {
     "iopub.execute_input": "2022-02-08T06:42:09.264547Z",
     "iopub.status.busy": "2022-02-08T06:42:09.263793Z",
     "iopub.status.idle": "2022-02-08T06:42:09.266084Z",
     "shell.execute_reply": "2022-02-08T06:42:09.265681Z",
     "shell.execute_reply.started": "2022-02-07T21:47:03.373377Z"
    },
    "papermill": {
     "duration": 0.045949,
     "end_time": "2022-02-08T06:42:09.266197",
     "exception": false,
     "start_time": "2022-02-08T06:42:09.220248",
     "status": "completed"
    },
    "tags": []
   },
   "outputs": [],
   "source": [
    "if PRIVATE:\n",
    "    sub1 = pd.read_csv(\"./submission_tfidf.csv\")\n",
    "    sub2 = pd.read_csv(\"./submission_DL.csv\")\n",
    "    sub3 = pd.read_csv(\"./submission_fasttext.csv\")"
   ]
  },
  {
   "cell_type": "code",
   "execution_count": 57,
   "id": "b96fdd40",
   "metadata": {
    "execution": {
     "iopub.execute_input": "2022-02-08T06:42:09.351302Z",
     "iopub.status.busy": "2022-02-08T06:42:09.350586Z",
     "iopub.status.idle": "2022-02-08T06:42:09.353186Z",
     "shell.execute_reply": "2022-02-08T06:42:09.352723Z",
     "shell.execute_reply.started": "2022-02-07T21:47:03.383328Z"
    },
    "papermill": {
     "duration": 0.04658,
     "end_time": "2022-02-08T06:42:09.353293",
     "exception": false,
     "start_time": "2022-02-08T06:42:09.306713",
     "status": "completed"
    },
    "tags": []
   },
   "outputs": [],
   "source": [
    "if PRIVATE:\n",
    "    sub = pd.read_csv(\"../input/jigsaw-toxic-severity-rating/comments_to_score.csv\")\n",
    "    sub[\"score\"] = sub1[\"score\"]*w1_ + sub2[\"score\"]*w2_ + sub3[\"score\"]*w3_\n",
    "    sub[[\"comment_id\", \"score\"]].to_csv(\"submission.csv\", index = None)"
   ]
  },
  {
   "cell_type": "code",
   "execution_count": 58,
   "id": "42f61c6e",
   "metadata": {
    "execution": {
     "iopub.execute_input": "2022-02-08T06:42:09.439381Z",
     "iopub.status.busy": "2022-02-08T06:42:09.438377Z",
     "iopub.status.idle": "2022-02-08T06:42:09.500603Z",
     "shell.execute_reply": "2022-02-08T06:42:09.500134Z",
     "shell.execute_reply.started": "2022-02-07T21:47:03.392528Z"
    },
    "papermill": {
     "duration": 0.106772,
     "end_time": "2022-02-08T06:42:09.500715",
     "exception": false,
     "start_time": "2022-02-08T06:42:09.393943",
     "status": "completed"
    },
    "tags": []
   },
   "outputs": [],
   "source": [
    "if not PRIVATE:\n",
    "    sub = pd.read_csv(\"../input/jigsaw-toxic-severity-rating/comments_to_score.csv\")\n",
    "    sub[\"score\"] = 0\n",
    "    sub[[\"comment_id\", \"score\"]].to_csv(\"submission.csv\", index = None)"
   ]
  }
 ],
 "metadata": {
  "kernelspec": {
   "display_name": "Python 3",
   "language": "python",
   "name": "python3"
  },
  "language_info": {
   "codemirror_mode": {
    "name": "ipython",
    "version": 3
   },
   "file_extension": ".py",
   "mimetype": "text/x-python",
   "name": "python",
   "nbconvert_exporter": "python",
   "pygments_lexer": "ipython3",
   "version": "3.7.12"
  },
  "papermill": {
   "default_parameters": {},
   "duration": 47.542319,
   "end_time": "2022-02-08T06:42:12.865190",
   "environment_variables": {},
   "exception": null,
   "input_path": "__notebook__.ipynb",
   "output_path": "__notebook__.ipynb",
   "parameters": {},
   "start_time": "2022-02-08T06:41:25.322871",
   "version": "2.3.3"
  },
  "widgets": {
   "application/vnd.jupyter.widget-state+json": {
    "state": {
     "19f3ef63adee4ed69b0776ae9795d659": {
      "model_module": "@jupyter-widgets/base",
      "model_module_version": "1.2.0",
      "model_name": "LayoutModel",
      "state": {
       "_model_module": "@jupyter-widgets/base",
       "_model_module_version": "1.2.0",
       "_model_name": "LayoutModel",
       "_view_count": null,
       "_view_module": "@jupyter-widgets/base",
       "_view_module_version": "1.2.0",
       "_view_name": "LayoutView",
       "align_content": null,
       "align_items": null,
       "align_self": null,
       "border": null,
       "bottom": null,
       "display": null,
       "flex": null,
       "flex_flow": null,
       "grid_area": null,
       "grid_auto_columns": null,
       "grid_auto_flow": null,
       "grid_auto_rows": null,
       "grid_column": null,
       "grid_gap": null,
       "grid_row": null,
       "grid_template_areas": null,
       "grid_template_columns": null,
       "grid_template_rows": null,
       "height": null,
       "justify_content": null,
       "justify_items": null,
       "left": null,
       "margin": null,
       "max_height": null,
       "max_width": null,
       "min_height": null,
       "min_width": null,
       "object_fit": null,
       "object_position": null,
       "order": null,
       "overflow": null,
       "overflow_x": null,
       "overflow_y": null,
       "padding": null,
       "right": null,
       "top": null,
       "visibility": null,
       "width": null
      }
     },
     "2621596d6664424bac65af15ef2ab873": {
      "model_module": "@jupyter-widgets/controls",
      "model_module_version": "1.5.0",
      "model_name": "DescriptionStyleModel",
      "state": {
       "_model_module": "@jupyter-widgets/controls",
       "_model_module_version": "1.5.0",
       "_model_name": "DescriptionStyleModel",
       "_view_count": null,
       "_view_module": "@jupyter-widgets/base",
       "_view_module_version": "1.2.0",
       "_view_name": "StyleView",
       "description_width": ""
      }
     },
     "2ac91abf3d15449faf5370fbf3f0f45d": {
      "model_module": "@jupyter-widgets/base",
      "model_module_version": "1.2.0",
      "model_name": "LayoutModel",
      "state": {
       "_model_module": "@jupyter-widgets/base",
       "_model_module_version": "1.2.0",
       "_model_name": "LayoutModel",
       "_view_count": null,
       "_view_module": "@jupyter-widgets/base",
       "_view_module_version": "1.2.0",
       "_view_name": "LayoutView",
       "align_content": null,
       "align_items": null,
       "align_self": null,
       "border": null,
       "bottom": null,
       "display": null,
       "flex": null,
       "flex_flow": null,
       "grid_area": null,
       "grid_auto_columns": null,
       "grid_auto_flow": null,
       "grid_auto_rows": null,
       "grid_column": null,
       "grid_gap": null,
       "grid_row": null,
       "grid_template_areas": null,
       "grid_template_columns": null,
       "grid_template_rows": null,
       "height": null,
       "justify_content": null,
       "justify_items": null,
       "left": null,
       "margin": null,
       "max_height": null,
       "max_width": null,
       "min_height": null,
       "min_width": null,
       "object_fit": null,
       "object_position": null,
       "order": null,
       "overflow": null,
       "overflow_x": null,
       "overflow_y": null,
       "padding": null,
       "right": null,
       "top": null,
       "visibility": null,
       "width": null
      }
     },
     "326d1191ae9848cc9466ec4dbc434de2": {
      "model_module": "@jupyter-widgets/base",
      "model_module_version": "1.2.0",
      "model_name": "LayoutModel",
      "state": {
       "_model_module": "@jupyter-widgets/base",
       "_model_module_version": "1.2.0",
       "_model_name": "LayoutModel",
       "_view_count": null,
       "_view_module": "@jupyter-widgets/base",
       "_view_module_version": "1.2.0",
       "_view_name": "LayoutView",
       "align_content": null,
       "align_items": null,
       "align_self": null,
       "border": null,
       "bottom": null,
       "display": null,
       "flex": null,
       "flex_flow": null,
       "grid_area": null,
       "grid_auto_columns": null,
       "grid_auto_flow": null,
       "grid_auto_rows": null,
       "grid_column": null,
       "grid_gap": null,
       "grid_row": null,
       "grid_template_areas": null,
       "grid_template_columns": null,
       "grid_template_rows": null,
       "height": null,
       "justify_content": null,
       "justify_items": null,
       "left": null,
       "margin": null,
       "max_height": null,
       "max_width": null,
       "min_height": null,
       "min_width": null,
       "object_fit": null,
       "object_position": null,
       "order": null,
       "overflow": null,
       "overflow_x": null,
       "overflow_y": null,
       "padding": null,
       "right": null,
       "top": null,
       "visibility": null,
       "width": null
      }
     },
     "74cf121f68c9420498f470f23b21d9f5": {
      "model_module": "@jupyter-widgets/base",
      "model_module_version": "1.2.0",
      "model_name": "LayoutModel",
      "state": {
       "_model_module": "@jupyter-widgets/base",
       "_model_module_version": "1.2.0",
       "_model_name": "LayoutModel",
       "_view_count": null,
       "_view_module": "@jupyter-widgets/base",
       "_view_module_version": "1.2.0",
       "_view_name": "LayoutView",
       "align_content": null,
       "align_items": null,
       "align_self": null,
       "border": null,
       "bottom": null,
       "display": null,
       "flex": null,
       "flex_flow": null,
       "grid_area": null,
       "grid_auto_columns": null,
       "grid_auto_flow": null,
       "grid_auto_rows": null,
       "grid_column": null,
       "grid_gap": null,
       "grid_row": null,
       "grid_template_areas": null,
       "grid_template_columns": null,
       "grid_template_rows": null,
       "height": null,
       "justify_content": null,
       "justify_items": null,
       "left": null,
       "margin": null,
       "max_height": null,
       "max_width": null,
       "min_height": null,
       "min_width": null,
       "object_fit": null,
       "object_position": null,
       "order": null,
       "overflow": null,
       "overflow_x": null,
       "overflow_y": null,
       "padding": null,
       "right": null,
       "top": null,
       "visibility": null,
       "width": null
      }
     },
     "881f6a2abaee469c8498bd25783e6773": {
      "model_module": "@jupyter-widgets/controls",
      "model_module_version": "1.5.0",
      "model_name": "ProgressStyleModel",
      "state": {
       "_model_module": "@jupyter-widgets/controls",
       "_model_module_version": "1.5.0",
       "_model_name": "ProgressStyleModel",
       "_view_count": null,
       "_view_module": "@jupyter-widgets/base",
       "_view_module_version": "1.2.0",
       "_view_name": "StyleView",
       "bar_color": null,
       "description_width": ""
      }
     },
     "befc09221b1349128c3ac21bf36c2767": {
      "model_module": "@jupyter-widgets/controls",
      "model_module_version": "1.5.0",
      "model_name": "HTMLModel",
      "state": {
       "_dom_classes": [],
       "_model_module": "@jupyter-widgets/controls",
       "_model_module_version": "1.5.0",
       "_model_name": "HTMLModel",
       "_view_count": null,
       "_view_module": "@jupyter-widgets/controls",
       "_view_module_version": "1.5.0",
       "_view_name": "HTMLView",
       "description": "",
       "description_tooltip": null,
       "layout": "IPY_MODEL_2ac91abf3d15449faf5370fbf3f0f45d",
       "placeholder": "​",
       "style": "IPY_MODEL_f7b894f481fb4671934ad254c63bc32a",
       "value": " 25/25 [00:00&lt;00:00, 697.55it/s]"
      }
     },
     "d09fd9f5f18a4dc181b43528553b88f1": {
      "model_module": "@jupyter-widgets/controls",
      "model_module_version": "1.5.0",
      "model_name": "HBoxModel",
      "state": {
       "_dom_classes": [],
       "_model_module": "@jupyter-widgets/controls",
       "_model_module_version": "1.5.0",
       "_model_name": "HBoxModel",
       "_view_count": null,
       "_view_module": "@jupyter-widgets/controls",
       "_view_module_version": "1.5.0",
       "_view_name": "HBoxView",
       "box_style": "",
       "children": [
        "IPY_MODEL_e9419d974e934467bce5ae64526a2708",
        "IPY_MODEL_eee08bcc74be4f8f83f7ecfedabc629f",
        "IPY_MODEL_befc09221b1349128c3ac21bf36c2767"
       ],
       "layout": "IPY_MODEL_19f3ef63adee4ed69b0776ae9795d659"
      }
     },
     "e9419d974e934467bce5ae64526a2708": {
      "model_module": "@jupyter-widgets/controls",
      "model_module_version": "1.5.0",
      "model_name": "HTMLModel",
      "state": {
       "_dom_classes": [],
       "_model_module": "@jupyter-widgets/controls",
       "_model_module_version": "1.5.0",
       "_model_name": "HTMLModel",
       "_view_count": null,
       "_view_module": "@jupyter-widgets/controls",
       "_view_module_version": "1.5.0",
       "_view_name": "HTMLView",
       "description": "",
       "description_tooltip": null,
       "layout": "IPY_MODEL_74cf121f68c9420498f470f23b21d9f5",
       "placeholder": "​",
       "style": "IPY_MODEL_2621596d6664424bac65af15ef2ab873",
       "value": "100%"
      }
     },
     "eee08bcc74be4f8f83f7ecfedabc629f": {
      "model_module": "@jupyter-widgets/controls",
      "model_module_version": "1.5.0",
      "model_name": "FloatProgressModel",
      "state": {
       "_dom_classes": [],
       "_model_module": "@jupyter-widgets/controls",
       "_model_module_version": "1.5.0",
       "_model_name": "FloatProgressModel",
       "_view_count": null,
       "_view_module": "@jupyter-widgets/controls",
       "_view_module_version": "1.5.0",
       "_view_name": "ProgressView",
       "bar_style": "success",
       "description": "",
       "description_tooltip": null,
       "layout": "IPY_MODEL_326d1191ae9848cc9466ec4dbc434de2",
       "max": 25.0,
       "min": 0.0,
       "orientation": "horizontal",
       "style": "IPY_MODEL_881f6a2abaee469c8498bd25783e6773",
       "value": 25.0
      }
     },
     "f7b894f481fb4671934ad254c63bc32a": {
      "model_module": "@jupyter-widgets/controls",
      "model_module_version": "1.5.0",
      "model_name": "DescriptionStyleModel",
      "state": {
       "_model_module": "@jupyter-widgets/controls",
       "_model_module_version": "1.5.0",
       "_model_name": "DescriptionStyleModel",
       "_view_count": null,
       "_view_module": "@jupyter-widgets/base",
       "_view_module_version": "1.2.0",
       "_view_name": "StyleView",
       "description_width": ""
      }
     }
    },
    "version_major": 2,
    "version_minor": 0
   }
  }
 },
 "nbformat": 4,
 "nbformat_minor": 5
}
